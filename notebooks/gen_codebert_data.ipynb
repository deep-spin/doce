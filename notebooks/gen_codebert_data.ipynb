{
 "cells": [
  {
   "cell_type": "code",
   "execution_count": 19,
   "metadata": {},
   "outputs": [],
   "source": [
    "from evalplus.data import (\n",
    "    get_human_eval_plus,\n",
    "    get_human_eval_plus_hash,\n",
    "    get_mbpp_plus,\n",
    "    get_mbpp_plus_hash,\n",
    "    load_solutions,\n",
    ")\n",
    "import os\n",
    "import json\n",
    "from os.path import join\n",
    "from tqdm import tqdm\n",
    "work_dir = \"/mnt/scratch-artemis/haausing/code_reranking/evalplus_outputs\"\n",
    "dataset = \"humaneval\"\n",
    "model_name = \"deepseek-coder-6.7b-instruct_temp_1.2\"\n",
    "#model_name = \"deepseek-coder-7b-instruct-v1.5_temp_1.2\"\n",
    "#model_name = \"code-llama-7b-instruct_temp_1.6\"\n",
    "debug_info = \"_debug1_sd-ut\"\n",
    "#debug_info = \"\"\n",
    "gen_dir = model_name + debug_info\n",
    "\n",
    "with open(f\"{work_dir}/{dataset}/{gen_dir}/eval_results.json\", \"r\") as f:\n",
    "    eval_results = json.load(f)\n",
    "for task_id in eval_results[\"eval\"]:\n",
    "    eval_results[\"eval\"][task_id] = sorted(eval_results[\"eval\"][task_id], key=lambda x: int(x[\"solution_id\"]))\n",
    "if dataset == \"humaneval\":\n",
    "    problems = get_human_eval_plus()\n",
    "else:\n",
    "    problems = get_mbpp_plus()"
   ]
  },
  {
   "cell_type": "code",
   "execution_count": 20,
   "metadata": {},
   "outputs": [],
   "source": [
    "saved_data = []\n",
    "for task_id in eval_results[\"eval\"]:\n",
    "    solutions = []\n",
    "    for solution in eval_results[\"eval\"][task_id]:\n",
    "        solutions.append(solution[\"solution\"])\n",
    "    solutions = list(set(solutions))\n",
    "    solution_ids = {}\n",
    "    for solution in solutions:\n",
    "        solution_ids[solution] = []\n",
    "        for other_solution in eval_results[\"eval\"][task_id]:\n",
    "            if solution == other_solution[\"solution\"]:\n",
    "                solution_ids[solution].append(int(other_solution[\"solution_id\"]))\n",
    "            solution_ids[solution] = sorted(solution_ids[solution])\n",
    "    for solution in solutions:\n",
    "        saved_data.append({\n",
    "            \"task_id\": task_id,\n",
    "            \"solution_ids\": solution_ids[solution],\n",
    "            \"solution\": solution\n",
    "        })\n",
    "\n",
    "#save data to file\n",
    "with open(f\"{work_dir}/{dataset}/{gen_dir}/mbr_neural_metric_data.jsonl\", \"w\") as f:\n",
    "    for data in saved_data:\n",
    "        f.write(json.dumps(data) + \"\\n\")"
   ]
  },
  {
   "cell_type": "code",
   "execution_count": 21,
   "metadata": {},
   "outputs": [],
   "source": [
    "def process_prompt(prompt:str):\n",
    "    prompt = ''.join(prompt.split('\"\"\"')[1:])\n",
    "    prompt = [e.strip() for e in prompt.split('\\n')]\n",
    "    prompt = \" \".join(prompt)\n",
    "    return prompt"
   ]
  },
  {
   "cell_type": "code",
   "execution_count": 22,
   "metadata": {},
   "outputs": [
    {
     "data": {
      "text/plain": [
       "27122"
      ]
     },
     "execution_count": 22,
     "metadata": {},
     "output_type": "execute_result"
    }
   ],
   "source": [
    "len(saved_data)"
   ]
  },
  {
   "cell_type": "code",
   "execution_count": 23,
   "metadata": {},
   "outputs": [
    {
     "name": "stderr",
     "output_type": "stream",
     "text": [
      "100%|██████████| 164/164 [00:00<00:00, 263146.85it/s]\n"
     ]
    }
   ],
   "source": [
    "import concurrent.futures\n",
    "from tqdm import tqdm\n",
    "\n",
    "def process_task(task_id):\n",
    "    local_reference_free_final_data = []\n",
    "    solutions = [e for e in saved_data if e[\"task_id\"] == task_id]\n",
    "    for i, solution in enumerate(solutions):\n",
    "        if dataset == \"mbpp\":\n",
    "            prompt = problems[task_id][\"prompt\"].replace('\"\"\"', \"\").strip()\n",
    "        elif dataset == \"humaneval\":\n",
    "            prompt = process_prompt(problems[task_id][\"prompt\"])\n",
    "        local_reference_free_final_data.append({\n",
    "            \"source\": prompt,\n",
    "            \"generated_code\": solution[\"solution\"],\n",
    "            \"golden_code\": problems[task_id][\"canonical_solution\"],\n",
    "            \"generated_code_solution_ids\": solution[\"solution_ids\"],\n",
    "            \"task_id\": task_id\n",
    "        })\n",
    "    return local_reference_free_final_data\n",
    "\n",
    "reference_free_final_data = []\n",
    "with concurrent.futures.ThreadPoolExecutor(max_workers=20) as executor:\n",
    "    results = list(tqdm(executor.map(process_task, problems), total=len(problems)))\n",
    "    for result in results:\n",
    "        reference_free_final_data.extend(result)\n",
    "\n",
    "# save final data to file\n",
    "with open(f\"{work_dir}/{dataset}/{gen_dir}/reference_free_neural_metric_data_final.jsonl\", \"w\") as f:\n",
    "    for data in reference_free_final_data:\n",
    "        f.write(json.dumps(data) + \"\\n\")\n",
    "\n"
   ]
  },
  {
   "cell_type": "code",
   "execution_count": 29,
   "metadata": {},
   "outputs": [
    {
     "name": "stderr",
     "output_type": "stream",
     "text": [
      "100%|██████████| 164/164 [00:18<00:00,  8.88it/s]\n"
     ]
    }
   ],
   "source": [
    "import concurrent.futures\n",
    "from tqdm import tqdm\n",
    "\n",
    "def process_task(task_id):\n",
    "    local_final_data = []\n",
    "    solutions = [e for e in saved_data if e[\"task_id\"] == task_id]\n",
    "    for i, solution in enumerate(solutions):\n",
    "        for j, other_solution in enumerate(solutions):\n",
    "            if i > j:\n",
    "                continue\n",
    "            if dataset == \"mbpp\":\n",
    "                prompt = problems[task_id][\"prompt\"].replace('\"\"\"', \"\").strip()\n",
    "            elif dataset == \"humaneval\":\n",
    "                prompt = process_prompt(problems[task_id][\"prompt\"])\n",
    "            local_final_data.append({\n",
    "                \"source\": prompt,\n",
    "                \"generated_code\": solution[\"solution\"],\n",
    "                \"golden_code\": other_solution[\"solution\"],\n",
    "                \"generated_code_solution_ids\": solution[\"solution_ids\"],\n",
    "                \"golden_code_solution_ids\": other_solution[\"solution_ids\"],\n",
    "                \"task_id\": task_id\n",
    "            })\n",
    "    return local_final_data\n",
    "\n",
    "final_data = []\n",
    "with concurrent.futures.ThreadPoolExecutor(max_workers=20) as executor:\n",
    "    results = list(tqdm(executor.map(process_task, problems), total=len(problems)))\n",
    "    for result in results:\n",
    "        final_data.extend(result)\n"
   ]
  },
  {
   "cell_type": "code",
   "execution_count": 30,
   "metadata": {},
   "outputs": [],
   "source": [
    "# save final data to file\n",
    "with open(f\"{work_dir}/{dataset}/{gen_dir}/mbr_neural_metric_data_final.jsonl\", \"w\") as f:\n",
    "    for data in final_data:\n",
    "        f.write(json.dumps(data) + \"\\n\")\n",
    "\n"
   ]
  },
  {
   "cell_type": "code",
   "execution_count": 31,
   "metadata": {},
   "outputs": [
    {
     "data": {
      "text/plain": [
       "2145704"
      ]
     },
     "execution_count": 31,
     "metadata": {},
     "output_type": "execute_result"
    }
   ],
   "source": [
    "len(final_data)"
   ]
  },
  {
   "cell_type": "code",
   "execution_count": null,
   "metadata": {},
   "outputs": [],
   "source": []
  }
 ],
 "metadata": {
  "kernelspec": {
   "display_name": "evalplus",
   "language": "python",
   "name": "python3"
  },
  "language_info": {
   "codemirror_mode": {
    "name": "ipython",
    "version": 3
   },
   "file_extension": ".py",
   "mimetype": "text/x-python",
   "name": "python",
   "nbconvert_exporter": "python",
   "pygments_lexer": "ipython3",
   "version": "3.9.18"
  }
 },
 "nbformat": 4,
 "nbformat_minor": 2
}
