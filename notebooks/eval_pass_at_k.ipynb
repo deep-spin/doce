{
 "cells": [
  {
   "cell_type": "code",
   "execution_count": 1,
   "metadata": {},
   "outputs": [],
   "source": [
    "import json\n",
    "import numpy as np\n",
    "from termcolor import cprint\n",
    "from evalplus.eval import (\n",
    "    FAIL,\n",
    "    PASS,\n",
    "    compatible_eval_result,\n",
    "    estimate_pass_at_k,\n",
    "    untrusted_check,\n",
    ")\n",
    "def eval_pass_at_k(results, base_only=False, dataset = \"mbpp\"):\n",
    "    # Calculate pass@k.\n",
    "    total = np.array([len(r) for r in results[\"eval\"].values()])\n",
    "    base_correct = []\n",
    "    new_correct = []\n",
    "    final_pass_at_k = {}\n",
    "\n",
    "    for res in results[\"eval\"].values():\n",
    "        bc = sum([r[\"base_status\"] == PASS for r in res])\n",
    "        base_correct.append(bc)\n",
    "        if not base_only:\n",
    "            new_correct.append(\n",
    "                sum(\n",
    "                    [\n",
    "                        res[i][\"base_status\"] == res[i][\"plus_status\"] == PASS\n",
    "                        for i in range(len(res))\n",
    "                    ]\n",
    "                )\n",
    "            )\n",
    "    base_correct = np.array(base_correct)\n",
    "\n",
    "    pass_at_k = {\n",
    "        f\"pass@{k}\": estimate_pass_at_k(total, base_correct, k).mean()\n",
    "        for k in [1, 5, 10, 20, 25, 50, 75, 100, 150, 200]\n",
    "        if total.min() >= k\n",
    "    }\n",
    "    cprint(f\"{dataset} (base tests)\", \"red\")\n",
    "    for k, v in pass_at_k.items():\n",
    "        cprint(f\"{k}:\\t{v:.6f}\", \"red\")\n",
    "        pass\n",
    "    final_pass_at_k[\"base\"] = pass_at_k\n",
    "    \n",
    "    if new_correct:\n",
    "        cprint(f\"{dataset}+ (base + extra tests)\", \"green\")\n",
    "        pass\n",
    "        pass_at_k = {\n",
    "            f\"pass@{k}\": estimate_pass_at_k(total, np.array(new_correct), k).mean()\n",
    "            for k in [1, 5, 10, 20, 25, 50, 75, 100, 150, 200]\n",
    "            if (total >= k).all()\n",
    "        }\n",
    "        for k, v in pass_at_k.items():\n",
    "            cprint(f\"{k}:\\t{v:.6f}\", \"green\")\n",
    "            pass\n",
    "    final_pass_at_k[\"plus\"] = pass_at_k\n",
    "    return final_pass_at_k[\"base\"], final_pass_at_k[\"plus\"]\n",
    "\n"
   ]
  },
  {
   "cell_type": "code",
   "execution_count": 8,
   "metadata": {},
   "outputs": [
    {
     "name": "stdout",
     "output_type": "stream",
     "text": [
      "\u001b[94mcode-llama-13b-instruct_temp_0\u001b[0m\n",
      "\u001b[31mmbpp (base tests)\u001b[0m\n",
      "\u001b[31mpass@1:\t0.625316\u001b[0m\n",
      "\u001b[32mmbpp+ (base + extra tests)\u001b[0m\n",
      "\u001b[32mpass@1:\t0.526582\u001b[0m\n"
     ]
    }
   ],
   "source": [
    "work_dir = \"/mnt/scratch-artemis/haausing/code_reranking/evalplus_outputs\"\n",
    "dataset_dir = \"mbpp\"\n",
    "#gen_dir = \"deepseek-coder-33b-instruct_temp_0.8\"\n",
    "#gen_dir = \"deepseek-coder-7b-instruct-v1.5_temp_0\"\n",
    "#gen_dir = \"deepseek-coder-6.7b-instruct_temp_1.2\" #+ \"_debug1_sd-ut\"\n",
    "#gen_dir = \"code-llama-7b-instruct_temp_1.6\" #+ \"_debug1_sd-ut\"\n",
    "#gen_dir = \"deepseek-coder-6.7b-instruct_temp_0\" #+ \"_debug1_sd-ut\"\n",
    "gen_dir = \"code-llama-13b-instruct_temp_0\" #+ \"_debug1_sd-ut\"\n",
    "#_debug1_not_change_positive\n",
    "# load exec_outputs\n",
    "\n",
    "# load eval_results\n",
    "with open(f\"{work_dir}/{dataset_dir}/{gen_dir}/eval_results.json\", \"r\") as f:\n",
    "    eval_results = json.load(f)\n",
    "#for task_id in eval_results[\"eval\"]:\n",
    "#    eval_results[\"eval\"][task_id] = sorted(eval_results[\"eval\"][task_id], key=lambda x: int(x[\"solution_id\"]))\n",
    "\n",
    "#pop out [\"Mbpp/6\", \"Mbpp/7\", \"Mbpp/8\", \"Mbpp/9\"]\n",
    "if dataset_dir == \"mbpp\":\n",
    "    for task_id in [\"Mbpp/6\", \"Mbpp/7\", \"Mbpp/8\", \"Mbpp/9\"]:\n",
    "        if task_id in eval_results[\"eval\"]:\n",
    "            eval_results[\"eval\"].pop(task_id)\n",
    "\n",
    "cprint(f\"{gen_dir}\", \"light_blue\")\n",
    "base_pass_at_k, plus_pass_at_k = eval_pass_at_k(eval_results, base_only=False, dataset=dataset_dir)\n"
   ]
  },
  {
   "cell_type": "code",
   "execution_count": 42,
   "metadata": {},
   "outputs": [
    {
     "name": "stdout",
     "output_type": "stream",
     "text": [
      "[0.7418447333798297, 0.7765505380388282, 0.8003869722008987, 0.8061304659090817, 0.8197550447131277]\n",
      "[0.6247839162508844, 0.6551937283262915, 0.6788429768257987, 0.6854617924216866, 0.7037075195516918]\n"
     ]
    }
   ],
   "source": [
    "print(list(base_pass_at_k.values())[1:6])\n",
    "print(list(plus_pass_at_k.values())[1:6])\n",
    "#print(list(base_pass_at_k.values())[0])\n",
    "#print(list(plus_pass_at_k.values())[0])\n",
    "#print(plus_pass_at_k)\n"
   ]
  },
  {
   "cell_type": "code",
   "execution_count": 5,
   "metadata": {},
   "outputs": [
    {
     "name": "stdout",
     "output_type": "stream",
     "text": [
      "[np.float64(0.6008757634912606), np.float64(0.6795546104023205), np.float64(0.74025163190667), np.float64(0.7567134711382415), np.float64(0.7999631398911994)]\n",
      "[np.float64(0.5161356168800573), np.float64(0.5843081249178235), np.float64(0.6385649250167906), np.float64(0.6539194714481712), np.float64(0.6956510803915198)]\n"
     ]
    }
   ],
   "source": [
    "print(list(base_pass_at_k.values())[1:6])\n",
    "print(list(plus_pass_at_k.values())[1:6])\n",
    "\n"
   ]
  },
  {
   "cell_type": "code",
   "execution_count": 5,
   "metadata": {},
   "outputs": [
    {
     "name": "stdout",
     "output_type": "stream",
     "text": [
      "\u001b[94mdeepseek-coder-7b-instruct-v1.5_temp_0.8\u001b[0m\n",
      "\u001b[31mmbpp (base tests)\u001b[0m\n",
      "\u001b[31mpass@1:\t0.714810\u001b[0m\n",
      "\u001b[31mpass@5:\t0.836459\u001b[0m\n",
      "\u001b[31mpass@10:\t0.867911\u001b[0m\n",
      "\u001b[31mpass@20:\t0.891345\u001b[0m\n",
      "\u001b[31mpass@25:\t0.897480\u001b[0m\n",
      "\u001b[31mpass@50:\t0.912314\u001b[0m\n",
      "\u001b[31mpass@75:\t0.918165\u001b[0m\n",
      "\u001b[31mpass@100:\t0.921450\u001b[0m\n",
      "\u001b[31mpass@150:\t0.925743\u001b[0m\n",
      "\u001b[31mpass@200:\t0.929114\u001b[0m\n",
      "\u001b[32mmbpp+ (base + extra tests)\u001b[0m\n",
      "\u001b[32mpass@1:\t0.617747\u001b[0m\n",
      "\u001b[32mpass@5:\t0.749225\u001b[0m\n",
      "\u001b[32mpass@10:\t0.782521\u001b[0m\n",
      "\u001b[32mpass@20:\t0.807712\u001b[0m\n",
      "\u001b[32mpass@25:\t0.814421\u001b[0m\n",
      "\u001b[32mpass@50:\t0.830792\u001b[0m\n",
      "\u001b[32mpass@75:\t0.837361\u001b[0m\n",
      "\u001b[32mpass@100:\t0.841193\u001b[0m\n",
      "\u001b[32mpass@150:\t0.846482\u001b[0m\n",
      "\u001b[32mpass@200:\t0.850633\u001b[0m\n"
     ]
    }
   ],
   "source": [
    "work_dir = \"/mnt/scratch-artemis/haausing/code_reranking/evalplus_outputs/mbpp\"\n",
    "gen_dir = \"deepseek-coder-7b-instruct-v1.5_temp_0.8\"\n",
    "\n",
    "# load eval_results\n",
    "with open(f\"{work_dir}/{gen_dir}/eval_results.json\", \"r\") as f:\n",
    "    eval_results = json.load(f)\n",
    "for task_id in eval_results[\"eval\"]:\n",
    "    eval_results[\"eval\"][task_id] = sorted(eval_results[\"eval\"][task_id], key=lambda x: int(x[\"solution_id\"]))\n",
    "\n",
    "#pop out [\"Mbpp/6\", \"Mbpp/7\", \"Mbpp/8\", \"Mbpp/9\"]\n",
    "for task_id in [\"Mbpp/6\", \"Mbpp/7\", \"Mbpp/8\", \"Mbpp/9\"]:\n",
    "    eval_results[\"eval\"].pop(task_id)\n",
    "\n",
    "cprint(f\"{gen_dir}\", \"light_blue\")\n",
    "base_pass_at_k, plus_pass_at_k = eval_pass_at_k(eval_results, base_only=False, dataset=\"mbpp\")\n"
   ]
  },
  {
   "cell_type": "code",
   "execution_count": 2,
   "metadata": {},
   "outputs": [
    {
     "name": "stderr",
     "output_type": "stream",
     "text": [
      " 25%|██▌       | 1/4 [00:20<01:01, 20.49s/it]"
     ]
    },
    {
     "name": "stdout",
     "output_type": "stream",
     "text": [
      "\u001b[31mmbpp (base tests)\u001b[0m\n",
      "\u001b[31mpass@1:\t0.341311\u001b[0m\n",
      "\u001b[31mpass@5:\t0.586415\u001b[0m\n",
      "\u001b[31mpass@10:\t0.672147\u001b[0m\n",
      "\u001b[31mpass@20:\t0.745857\u001b[0m\n",
      "\u001b[31mpass@25:\t0.766969\u001b[0m\n",
      "\u001b[31mpass@50:\t0.823828\u001b[0m\n",
      "\u001b[31mpass@75:\t0.850920\u001b[0m\n",
      "\u001b[31mpass@100:\t0.867358\u001b[0m\n",
      "\u001b[31mpass@150:\t0.886271\u001b[0m\n",
      "\u001b[31mpass@200:\t0.896341\u001b[0m\n",
      "\u001b[32mmbpp+ (base + extra tests)\u001b[0m\n",
      "\u001b[32mpass@1:\t0.302043\u001b[0m\n",
      "\u001b[32mpass@5:\t0.528195\u001b[0m\n",
      "\u001b[32mpass@10:\t0.612348\u001b[0m\n",
      "\u001b[32mpass@20:\t0.684540\u001b[0m\n",
      "\u001b[32mpass@25:\t0.705160\u001b[0m\n",
      "\u001b[32mpass@50:\t0.761755\u001b[0m\n",
      "\u001b[32mpass@75:\t0.790063\u001b[0m\n",
      "\u001b[32mpass@100:\t0.807471\u001b[0m\n",
      "\u001b[32mpass@150:\t0.826567\u001b[0m\n",
      "\u001b[32mpass@200:\t0.835366\u001b[0m\n"
     ]
    },
    {
     "name": "stderr",
     "output_type": "stream",
     "text": [
      " 50%|█████     | 2/4 [00:53<00:55, 27.64s/it]"
     ]
    },
    {
     "name": "stdout",
     "output_type": "stream",
     "text": [
      "\u001b[31mmbpp (base tests)\u001b[0m\n",
      "\u001b[31mpass@1:\t0.393872\u001b[0m\n",
      "\u001b[31mpass@5:\t0.617838\u001b[0m\n",
      "\u001b[31mpass@10:\t0.700470\u001b[0m\n",
      "\u001b[31mpass@20:\t0.773768\u001b[0m\n",
      "\u001b[31mpass@25:\t0.794328\u001b[0m\n",
      "\u001b[31mpass@50:\t0.847737\u001b[0m\n",
      "\u001b[31mpass@75:\t0.872137\u001b[0m\n",
      "\u001b[31mpass@100:\t0.886806\u001b[0m\n",
      "\u001b[31mpass@150:\t0.904096\u001b[0m\n",
      "\u001b[31mpass@200:\t0.914634\u001b[0m\n",
      "\u001b[32mmbpp+ (base + extra tests)\u001b[0m\n",
      "\u001b[32mpass@1:\t0.347409\u001b[0m\n",
      "\u001b[32mpass@5:\t0.559648\u001b[0m\n",
      "\u001b[32mpass@10:\t0.640243\u001b[0m\n",
      "\u001b[32mpass@20:\t0.710875\u001b[0m\n",
      "\u001b[32mpass@25:\t0.730708\u001b[0m\n",
      "\u001b[32mpass@50:\t0.783608\u001b[0m\n",
      "\u001b[32mpass@75:\t0.808692\u001b[0m\n",
      "\u001b[32mpass@100:\t0.823457\u001b[0m\n",
      "\u001b[32mpass@150:\t0.839459\u001b[0m\n",
      "\u001b[32mpass@200:\t0.847561\u001b[0m\n"
     ]
    },
    {
     "name": "stderr",
     "output_type": "stream",
     "text": [
      " 75%|███████▌  | 3/4 [01:15<00:25, 25.45s/it]"
     ]
    },
    {
     "name": "stdout",
     "output_type": "stream",
     "text": [
      "\u001b[31mmbpp (base tests)\u001b[0m\n",
      "\u001b[31mpass@1:\t0.398232\u001b[0m\n",
      "\u001b[31mpass@5:\t0.621515\u001b[0m\n",
      "\u001b[31mpass@10:\t0.704834\u001b[0m\n",
      "\u001b[31mpass@20:\t0.778818\u001b[0m\n",
      "\u001b[31mpass@25:\t0.799572\u001b[0m\n",
      "\u001b[31mpass@50:\t0.853281\u001b[0m\n",
      "\u001b[31mpass@75:\t0.877248\u001b[0m\n",
      "\u001b[31mpass@100:\t0.891153\u001b[0m\n",
      "\u001b[31mpass@150:\t0.906571\u001b[0m\n",
      "\u001b[31mpass@200:\t0.914634\u001b[0m\n",
      "\u001b[32mmbpp+ (base + extra tests)\u001b[0m\n",
      "\u001b[32mpass@1:\t0.351037\u001b[0m\n",
      "\u001b[32mpass@5:\t0.562189\u001b[0m\n",
      "\u001b[32mpass@10:\t0.642629\u001b[0m\n",
      "\u001b[32mpass@20:\t0.712651\u001b[0m\n",
      "\u001b[32mpass@25:\t0.732262\u001b[0m\n",
      "\u001b[32mpass@50:\t0.784801\u001b[0m\n",
      "\u001b[32mpass@75:\t0.810008\u001b[0m\n",
      "\u001b[32mpass@100:\t0.824907\u001b[0m\n",
      "\u001b[32mpass@150:\t0.840604\u001b[0m\n",
      "\u001b[32mpass@200:\t0.847561\u001b[0m\n"
     ]
    },
    {
     "name": "stderr",
     "output_type": "stream",
     "text": [
      "100%|██████████| 4/4 [01:38<00:00, 24.71s/it]"
     ]
    },
    {
     "name": "stdout",
     "output_type": "stream",
     "text": [
      "\u001b[31mmbpp (base tests)\u001b[0m\n",
      "\u001b[31mpass@1:\t0.398415\u001b[0m\n",
      "\u001b[31mpass@5:\t0.621560\u001b[0m\n",
      "\u001b[31mpass@10:\t0.704887\u001b[0m\n",
      "\u001b[31mpass@20:\t0.778861\u001b[0m\n",
      "\u001b[31mpass@25:\t0.799616\u001b[0m\n",
      "\u001b[31mpass@50:\t0.853333\u001b[0m\n",
      "\u001b[31mpass@75:\t0.877279\u001b[0m\n",
      "\u001b[31mpass@100:\t0.891164\u001b[0m\n",
      "\u001b[31mpass@150:\t0.906571\u001b[0m\n",
      "\u001b[31mpass@200:\t0.914634\u001b[0m\n",
      "\u001b[32mmbpp+ (base + extra tests)\u001b[0m\n",
      "\u001b[32mpass@1:\t0.351128\u001b[0m\n",
      "\u001b[32mpass@5:\t0.562041\u001b[0m\n",
      "\u001b[32mpass@10:\t0.642231\u001b[0m\n",
      "\u001b[32mpass@20:\t0.711759\u001b[0m\n",
      "\u001b[32mpass@25:\t0.731166\u001b[0m\n",
      "\u001b[32mpass@50:\t0.783001\u001b[0m\n",
      "\u001b[32mpass@75:\t0.807838\u001b[0m\n",
      "\u001b[32mpass@100:\t0.822691\u001b[0m\n",
      "\u001b[32mpass@150:\t0.839174\u001b[0m\n",
      "\u001b[32mpass@200:\t0.847561\u001b[0m\n"
     ]
    },
    {
     "name": "stderr",
     "output_type": "stream",
     "text": [
      "\n"
     ]
    },
    {
     "data": {
      "text/plain": [
       "<Figure size 1000x600 with 0 Axes>"
      ]
     },
     "metadata": {},
     "output_type": "display_data"
    }
   ],
   "source": [
    "import seaborn as sns\n",
    "import matplotlib.pyplot as plt\n",
    "from tqdm import tqdm\n",
    "import pandas as pd\n",
    "import json\n",
    "\n",
    "# Assuming `pass_at_k` is a dictionary returned from the `eval_pass_at_k` function\n",
    "# For example:\n",
    "# pass_at_k = {'pass@1': 0.95, 'pass@5': 0.85, 'pass@10': 0.80, 'pass@50': 0.60, 'pass@100': 0.50}\n",
    "\n",
    "# Convert the dictionary to a DataFrame for easier plotting\n",
    "base_model = \"code-llama-7b-instruct_temp_1.6\"\n",
    "\n",
    "work_dir = \"/mnt/scratch-artemis/haausing/code_reranking/evalplus_outputs/humaneval\"\n",
    "gen_dirs = [\n",
    "    base_model,\n",
    "    f\"{base_model}_debug1_sd-ut\",\n",
    "    f\"{base_model}_debug2_sd-ut\",\n",
    "    f\"{base_model}_debug3_sd-ut\"\n",
    "]\n",
    "map_gen_dir_to_label = {\n",
    "    base_model: \"original\",\n",
    "    f\"{base_model}_debug1_sd-ut\": \"1 round SD-UT\",\n",
    "    f\"{base_model}_debug2_sd-ut\": \"2 rounds SD-UT\",\n",
    "    f\"{base_model}_debug3_sd-ut\": \"3 rounds SD-UT\"\n",
    "}\n",
    "\n",
    "plt.figure(figsize=(10, 6))\n",
    "\n",
    "base_pass_at_k = {}\n",
    "plus_pass_at_k = {}\n",
    "data = {}\n",
    "\n",
    "for gen_dir in tqdm(gen_dirs):\n",
    "    # load eval_results\n",
    "    with open(f\"{work_dir}/{gen_dir}/eval_results.json\", \"r\") as f:\n",
    "        eval_results = json.load(f)\n",
    "    for task_id in eval_results[\"eval\"]:\n",
    "        eval_results[\"eval\"][task_id] = sorted(eval_results[\"eval\"][task_id], key=lambda x: int(x[\"solution_id\"]))\n",
    "\n",
    "    #pop out [\"Mbpp/6\", \"Mbpp/7\", \"Mbpp/8\", \"Mbpp/9\"]\n",
    "    for task_id in [\"Mbpp/6\", \"Mbpp/7\", \"Mbpp/8\", \"Mbpp/9\"]:\n",
    "        if task_id in eval_results[\"eval\"]:\n",
    "            eval_results[\"eval\"].pop(task_id)\n",
    "    base_pass_at_k[map_gen_dir_to_label[gen_dir]], plus_pass_at_k[map_gen_dir_to_label[gen_dir]] = eval_pass_at_k(eval_results, base_only=False, dataset=\"mbpp\")\n",
    "    data[map_gen_dir_to_label[gen_dir]] = {\n",
    "        \"k\": [int(k.split('@')[1]) for k in base_pass_at_k[map_gen_dir_to_label[gen_dir]].keys()],\n",
    "        \"pass@k\": [v for v in base_pass_at_k[map_gen_dir_to_label[gen_dir]].values()]\n",
    "    }\n",
    "    data[map_gen_dir_to_label[gen_dir] + \"+\"] = {\n",
    "        \"k\": [int(k.split('@')[1]) for k in plus_pass_at_k[map_gen_dir_to_label[gen_dir]].keys()],\n",
    "        \"pass@k\": [v for v in plus_pass_at_k[map_gen_dir_to_label[gen_dir]].values()]\n",
    "    }\n",
    "df = pd.DataFrame(data)\n"
   ]
  },
  {
   "cell_type": "code",
   "execution_count": 4,
   "metadata": {},
   "outputs": [
    {
     "name": "stdout",
     "output_type": "stream",
     "text": [
      "1 round SD-UT\n",
      "2 rounds SD-UT\n",
      "3 rounds SD-UT\n"
     ]
    },
    {
     "data": {
      "image/png": "[encoded data removed]",
      "text/plain": [
       "<Figure size 700x700 with 1 Axes>"
      ]
     },
     "metadata": {},
     "output_type": "display_data"
    }
   ],
   "source": [
    "# Plotting\n",
    "name_dict = {'original': 'No SD',\n",
    " 'original+': 'No SD',\n",
    " '1 round SD-UT': '1 round SD',\n",
    " '1 round SD-UT+': '1 round SD',\n",
    " '2 rounds SD-UT': '2 rounds SD',\n",
    " '2 rounds SD-UT+': '2 rounds SD',\n",
    " '3 rounds SD-UT': '3 rounds SD',\n",
    " '3 rounds SD-UT+': '3 rounds SD'}\n",
    "plt.figure(figsize=(7, 7))\n",
    "palette = sns.color_palette(\"ch:start=.2,rot=-.3\", 9)  # Define a palette with 3 colors\n",
    "palette_dashed = sns.color_palette(\"dark:salmon_r\", 9)  # Define a palette with 2 colors for dashed lines\n",
    "color_list = [palette[0],\n",
    "              palette_dashed[0],\n",
    "              palette[0],\n",
    "              palette_dashed[0],\n",
    "              palette[4],\n",
    "              palette_dashed[3],\n",
    "              palette[8],\n",
    "              palette_dashed[6]]\n",
    "\n",
    "line_width = 3\n",
    "marker_size = 8\n",
    "for i,column in enumerate(df.columns):\n",
    "    # if i is odd number, continue\n",
    "    if i % 2 != 0:\n",
    "        continue\n",
    "    if i == 0:\n",
    "        continue\n",
    "    print(column)\n",
    "    sns.lineplot(x=df[column][\"k\"], y=[100* (e - df[\"original\"][\"pass@k\"][idx]) for idx,e in enumerate(df[column][\"pass@k\"])], \n",
    "                 marker='s', \n",
    "                 markersize=marker_size,\n",
    "                 #label=name_dict[column], \n",
    "                 color=color_list[i]\n",
    "                 , linewidth=line_width)\n",
    "\n",
    "plt.xlabel('k', fontsize=24)\n",
    "plt.ylabel('Pass@k', fontsize=24)\n",
    "#plt.legend(\n",
    "#    fontsize=18,\n",
    "#    #title='methods', \n",
    "#    #title_fontsize='16',\n",
    "#    shadow=False, \n",
    "#    fancybox=True, \n",
    "#    loc='lower right', \n",
    "#    framealpha=0.3,\n",
    "#    #bbox_to_anchor=(1.05, 1) \n",
    "#)\n",
    "plt.grid(True, linestyle='-', linewidth=1, alpha=1)\n",
    "plt.xticks(\n",
    "    ticks=np.arange(0, 250, 50), \n",
    "    fontsize=24)\n",
    "plt.yticks(\n",
    "    ticks=np.arange(0, 6, 1), \n",
    "    fontsize=24)\n",
    "plt.savefig('../figs/humaneval_pass_at_k_performance_base.jpg', dpi=300, bbox_inches='tight', pad_inches=0.01)\n",
    "plt.show()"
   ]
  },
  {
   "cell_type": "code",
   "execution_count": 52,
   "metadata": {},
   "outputs": [
    {
     "name": "stdout",
     "output_type": "stream",
     "text": [
      "[0.549874585938673, 0.5826676421726437, 0.6066776519474328, 0.6127367484567747, 0.628783076797045]\n",
      "[0.654681591558583, 0.6902426012648786, 0.7166078365749753, 0.723261617044594, 0.7395197979175396]\n",
      "[5, 10, 20, 25, 50]\n",
      "0.4487848101265823\n",
      "0.5418481012658228\n",
      "1\n",
      "[0.584067391080893, 0.6158672798249673, 0.6387025340624729, 0.6444274118721207, 0.6597830043534535]\n",
      "[0.7035898895904201, 0.7358490144865523, 0.7580756025524973, 0.7634787322976426, 0.7762781913654135]\n",
      "[5, 10, 20, 25, 50]\n",
      "0.5943291139240506\n",
      "0.4854556962025317\n",
      "1\n"
     ]
    }
   ],
   "source": [
    "# print(data[\"original+\"][\"pass@k\"][1:6])\n",
    "# print(data[\"original\"][\"pass@k\"][1:6])\n",
    "# print(data[\"original+\"][\"k\"][1:6])\n",
    "# print(data[\"original+\"][\"pass@k\"][0])\n",
    "# print(data[\"original\"][\"pass@k\"][0])\n",
    "# print(data[\"original+\"][\"k\"][0])\n",
    "\n",
    "# print(data[\"1 round SD-UT+\"][\"pass@k\"][1:6])\n",
    "# print(data[\"1 round SD-UT\"][\"pass@k\"][1:6])\n",
    "# print(data[\"1 round SD-UT+\"][\"k\"][1:6])\n",
    "# print(data[\"1 round SD-UT\"][\"pass@k\"][0])\n",
    "# print(data[\"1 round SD-UT+\"][\"pass@k\"][0])\n",
    "# print(data[\"1 round SD-UT\"][\"k\"][0])\n"
   ]
  },
  {
   "cell_type": "code",
   "execution_count": 5,
   "metadata": {},
   "outputs": [
    {
     "name": "stderr",
     "output_type": "stream",
     "text": [
      " 25%|██▌       | 1/4 [00:16<00:49, 16.53s/it]"
     ]
    },
    {
     "name": "stdout",
     "output_type": "stream",
     "text": [
      "\u001b[31mmbpp (base tests)\u001b[0m\n",
      "\u001b[31mpass@1:\t0.501430\u001b[0m\n",
      "\u001b[31mpass@5:\t0.690103\u001b[0m\n",
      "\u001b[31mpass@10:\t0.747396\u001b[0m\n",
      "\u001b[31mpass@20:\t0.792148\u001b[0m\n",
      "\u001b[31mpass@25:\t0.803814\u001b[0m\n",
      "\u001b[31mpass@50:\t0.832388\u001b[0m\n",
      "\u001b[31mpass@75:\t0.845332\u001b[0m\n",
      "\u001b[31mpass@100:\t0.853832\u001b[0m\n",
      "\u001b[31mpass@150:\t0.866216\u001b[0m\n",
      "\u001b[31mpass@200:\t0.875949\u001b[0m\n",
      "\u001b[32mmbpp+ (base + extra tests)\u001b[0m\n",
      "\u001b[32mpass@1:\t0.418861\u001b[0m\n",
      "\u001b[32mpass@5:\t0.584692\u001b[0m\n",
      "\u001b[32mpass@10:\t0.637458\u001b[0m\n",
      "\u001b[32mpass@20:\t0.679270\u001b[0m\n",
      "\u001b[32mpass@25:\t0.690550\u001b[0m\n",
      "\u001b[32mpass@50:\t0.720035\u001b[0m\n",
      "\u001b[32mpass@75:\t0.734523\u001b[0m\n",
      "\u001b[32mpass@100:\t0.744002\u001b[0m\n",
      "\u001b[32mpass@150:\t0.756391\u001b[0m\n",
      "\u001b[32mpass@200:\t0.764557\u001b[0m\n"
     ]
    },
    {
     "name": "stderr",
     "output_type": "stream",
     "text": [
      " 50%|█████     | 2/4 [00:37<00:38, 19.36s/it]"
     ]
    },
    {
     "name": "stdout",
     "output_type": "stream",
     "text": [
      "\u001b[31mmbpp (base tests)\u001b[0m\n",
      "\u001b[31mpass@1:\t0.566684\u001b[0m\n",
      "\u001b[31mpass@5:\t0.738755\u001b[0m\n",
      "\u001b[31mpass@10:\t0.787025\u001b[0m\n",
      "\u001b[31mpass@20:\t0.823597\u001b[0m\n",
      "\u001b[31mpass@25:\t0.832925\u001b[0m\n",
      "\u001b[31mpass@50:\t0.855339\u001b[0m\n",
      "\u001b[31mpass@75:\t0.866094\u001b[0m\n",
      "\u001b[31mpass@100:\t0.873895\u001b[0m\n",
      "\u001b[31mpass@150:\t0.886107\u001b[0m\n",
      "\u001b[31mpass@200:\t0.896203\u001b[0m\n",
      "\u001b[32mmbpp+ (base + extra tests)\u001b[0m\n",
      "\u001b[32mpass@1:\t0.466253\u001b[0m\n",
      "\u001b[32mpass@5:\t0.619334\u001b[0m\n",
      "\u001b[32mpass@10:\t0.667247\u001b[0m\n",
      "\u001b[32mpass@20:\t0.706535\u001b[0m\n",
      "\u001b[32mpass@25:\t0.717632\u001b[0m\n",
      "\u001b[32mpass@50:\t0.747199\u001b[0m\n",
      "\u001b[32mpass@75:\t0.761041\u001b[0m\n",
      "\u001b[32mpass@100:\t0.769439\u001b[0m\n",
      "\u001b[32mpass@150:\t0.779867\u001b[0m\n",
      "\u001b[32mpass@200:\t0.787342\u001b[0m\n"
     ]
    },
    {
     "name": "stderr",
     "output_type": "stream",
     "text": [
      " 75%|███████▌  | 3/4 [00:59<00:20, 20.18s/it]"
     ]
    },
    {
     "name": "stdout",
     "output_type": "stream",
     "text": [
      "\u001b[31mmbpp (base tests)\u001b[0m\n",
      "\u001b[31mpass@1:\t0.572835\u001b[0m\n",
      "\u001b[31mpass@5:\t0.742136\u001b[0m\n",
      "\u001b[31mpass@10:\t0.788708\u001b[0m\n",
      "\u001b[31mpass@20:\t0.823490\u001b[0m\n",
      "\u001b[31mpass@25:\t0.832350\u001b[0m\n",
      "\u001b[31mpass@50:\t0.853995\u001b[0m\n",
      "\u001b[31mpass@75:\t0.864738\u001b[0m\n",
      "\u001b[31mpass@100:\t0.872706\u001b[0m\n",
      "\u001b[31mpass@150:\t0.885476\u001b[0m\n",
      "\u001b[31mpass@200:\t0.896203\u001b[0m\n",
      "\u001b[32mmbpp+ (base + extra tests)\u001b[0m\n",
      "\u001b[32mpass@1:\t0.469190\u001b[0m\n",
      "\u001b[32mpass@5:\t0.620460\u001b[0m\n",
      "\u001b[32mpass@10:\t0.667150\u001b[0m\n",
      "\u001b[32mpass@20:\t0.704560\u001b[0m\n",
      "\u001b[32mpass@25:\t0.715040\u001b[0m\n",
      "\u001b[32mpass@50:\t0.743284\u001b[0m\n",
      "\u001b[32mpass@75:\t0.756999\u001b[0m\n",
      "\u001b[32mpass@100:\t0.765602\u001b[0m\n",
      "\u001b[32mpass@150:\t0.776681\u001b[0m\n",
      "\u001b[32mpass@200:\t0.784810\u001b[0m\n"
     ]
    },
    {
     "name": "stderr",
     "output_type": "stream",
     "text": [
      "100%|██████████| 4/4 [01:20<00:00, 20.03s/it]"
     ]
    },
    {
     "name": "stdout",
     "output_type": "stream",
     "text": [
      "\u001b[31mmbpp (base tests)\u001b[0m\n",
      "\u001b[31mpass@1:\t0.574987\u001b[0m\n",
      "\u001b[31mpass@5:\t0.744262\u001b[0m\n",
      "\u001b[31mpass@10:\t0.789917\u001b[0m\n",
      "\u001b[31mpass@20:\t0.823860\u001b[0m\n",
      "\u001b[31mpass@25:\t0.832553\u001b[0m\n",
      "\u001b[31mpass@50:\t0.854003\u001b[0m\n",
      "\u001b[31mpass@75:\t0.864737\u001b[0m\n",
      "\u001b[31mpass@100:\t0.872705\u001b[0m\n",
      "\u001b[31mpass@150:\t0.885476\u001b[0m\n",
      "\u001b[31mpass@200:\t0.896203\u001b[0m\n",
      "\u001b[32mmbpp+ (base + extra tests)\u001b[0m\n",
      "\u001b[32mpass@1:\t0.471924\u001b[0m\n",
      "\u001b[32mpass@5:\t0.623279\u001b[0m\n",
      "\u001b[32mpass@10:\t0.669597\u001b[0m\n",
      "\u001b[32mpass@20:\t0.707164\u001b[0m\n",
      "\u001b[32mpass@25:\t0.717814\u001b[0m\n",
      "\u001b[32mpass@50:\t0.746619\u001b[0m\n",
      "\u001b[32mpass@75:\t0.760427\u001b[0m\n",
      "\u001b[32mpass@100:\t0.768954\u001b[0m\n",
      "\u001b[32mpass@150:\t0.779719\u001b[0m\n",
      "\u001b[32mpass@200:\t0.787342\u001b[0m\n"
     ]
    },
    {
     "name": "stderr",
     "output_type": "stream",
     "text": [
      "\n"
     ]
    },
    {
     "data": {
      "text/plain": [
       "<Figure size 1000x600 with 0 Axes>"
      ]
     },
     "metadata": {},
     "output_type": "display_data"
    }
   ],
   "source": [
    "import seaborn as sns\n",
    "import matplotlib.pyplot as plt\n",
    "from tqdm import tqdm\n",
    "import pandas as pd\n",
    "import json\n",
    "\n",
    "# Assuming `pass_at_k` is a dictionary returned from the `eval_pass_at_k` function\n",
    "# For example:\n",
    "# pass_at_k = {'pass@1': 0.95, 'pass@5': 0.85, 'pass@10': 0.80, 'pass@50': 0.60, 'pass@100': 0.50}\n",
    "\n",
    "# Convert the dictionary to a DataFrame for easier plotting\n",
    "base_model = \"code-llama-7b-instruct_temp_1.6\"\n",
    "\n",
    "work_dir = \"/mnt/scratch-artemis/haausing/code_reranking/evalplus_outputs/mbpp\"\n",
    "gen_dirs = [\n",
    "    base_model,\n",
    "    f\"{base_model}_debug1_sd-ut\",\n",
    "    f\"{base_model}_debug2_sd-ut\",\n",
    "    f\"{base_model}_debug3_sd-ut\"\n",
    "]\n",
    "map_gen_dir_to_label = {\n",
    "    base_model: \"original\",\n",
    "    f\"{base_model}_debug1_sd-ut\": \"1 round SD-UT\",\n",
    "    f\"{base_model}_debug2_sd-ut\": \"2 rounds SD-UT\",\n",
    "    f\"{base_model}_debug3_sd-ut\": \"3 rounds SD-UT\"\n",
    "}\n",
    "\n",
    "plt.figure(figsize=(10, 6))\n",
    "\n",
    "base_pass_at_k = {}\n",
    "plus_pass_at_k = {}\n",
    "data = {}\n",
    "\n",
    "for gen_dir in tqdm(gen_dirs):\n",
    "    # load eval_results\n",
    "    with open(f\"{work_dir}/{gen_dir}/eval_results.json\", \"r\") as f:\n",
    "        eval_results = json.load(f)\n",
    "    for task_id in eval_results[\"eval\"]:\n",
    "        eval_results[\"eval\"][task_id] = sorted(eval_results[\"eval\"][task_id], key=lambda x: int(x[\"solution_id\"]))\n",
    "\n",
    "    #pop out [\"Mbpp/6\", \"Mbpp/7\", \"Mbpp/8\", \"Mbpp/9\"]\n",
    "    for task_id in [\"Mbpp/6\", \"Mbpp/7\", \"Mbpp/8\", \"Mbpp/9\"]:\n",
    "        if task_id in eval_results[\"eval\"]:\n",
    "            eval_results[\"eval\"].pop(task_id)\n",
    "    base_pass_at_k[map_gen_dir_to_label[gen_dir]], plus_pass_at_k[map_gen_dir_to_label[gen_dir]] = eval_pass_at_k(eval_results, base_only=False, dataset=\"mbpp\")\n",
    "    data[map_gen_dir_to_label[gen_dir]] = {\n",
    "        \"k\": [int(k.split('@')[1]) for k in base_pass_at_k[map_gen_dir_to_label[gen_dir]].keys()],\n",
    "        \"pass@k\": [v for v in base_pass_at_k[map_gen_dir_to_label[gen_dir]].values()]\n",
    "    }\n",
    "    data[map_gen_dir_to_label[gen_dir] + \"+\"] = {\n",
    "        \"k\": [int(k.split('@')[1]) for k in plus_pass_at_k[map_gen_dir_to_label[gen_dir]].keys()],\n",
    "        \"pass@k\": [v for v in plus_pass_at_k[map_gen_dir_to_label[gen_dir]].values()]\n",
    "    }\n",
    "df = pd.DataFrame(data)"
   ]
  },
  {
   "cell_type": "code",
   "execution_count": 6,
   "metadata": {},
   "outputs": [
    {
     "name": "stdout",
     "output_type": "stream",
     "text": [
      "1 round SD-UT\n",
      "2 rounds SD-UT\n",
      "3 rounds SD-UT\n"
     ]
    },
    {
     "data": {
      "image/png": "[encoded data removed]",
      "text/plain": [
       "<Figure size 700x700 with 1 Axes>"
      ]
     },
     "metadata": {},
     "output_type": "display_data"
    }
   ],
   "source": [
    "# Plotting\n",
    "name_dict = {'original': 'No SD',\n",
    " 'original+': 'No SD',\n",
    " '1 round SD-UT': '1 round SD',\n",
    " '1 round SD-UT+': '1 round SD',\n",
    " '2 rounds SD-UT': '2 rounds SD',\n",
    " '2 rounds SD-UT+': '2 rounds SD',\n",
    " '3 rounds SD-UT': '3 rounds SD',\n",
    " '3 rounds SD-UT+': '3 rounds SD'}\n",
    "plt.figure(figsize=(7, 7))\n",
    "palette = sns.color_palette(\"ch:start=.2,rot=-.3\", 9)  # Define a palette with 3 colors\n",
    "palette_dashed = sns.color_palette(\"dark:salmon_r\", 9)  # Define a palette with 2 colors for dashed lines\n",
    "color_list = [palette[0],\n",
    "              palette_dashed[0],\n",
    "              palette[0],\n",
    "              palette_dashed[0],\n",
    "              palette[4],\n",
    "              palette_dashed[3],\n",
    "              palette[8],\n",
    "              palette_dashed[6]]\n",
    "\n",
    "line_width = 3\n",
    "marker_size = 8\n",
    "for i,column in enumerate(df.columns):\n",
    "    # if i is odd number, continue\n",
    "    if i % 2 != 0:\n",
    "        continue\n",
    "    if i == 0:\n",
    "        continue\n",
    "    print(column)\n",
    "    sns.lineplot(x=df[column][\"k\"], y=[100* (e - df[\"original\"][\"pass@k\"][idx]) for idx,e in enumerate(df[column][\"pass@k\"])], \n",
    "                 marker='s', \n",
    "                 markersize=marker_size,\n",
    "                 label=name_dict[column], \n",
    "                 color=color_list[i]\n",
    "                 , linewidth=line_width)\n",
    "\n",
    "plt.xlabel('k', fontsize=24)\n",
    "#plt.ylabel('Pass@k', fontsize=24)\n",
    "plt.legend(\n",
    "    fontsize=18,\n",
    "    #title='methods', \n",
    "    #title_fontsize='16',\n",
    "    shadow=False, \n",
    "    fancybox=True, \n",
    "    loc='upper right', \n",
    "    framealpha=0.3,\n",
    "    #bbox_to_anchor=(1.05, 1) \n",
    ")\n",
    "plt.grid(True, linestyle='-', linewidth=1, alpha=1)\n",
    "plt.xticks(\n",
    "    ticks=np.arange(0, 250, 50), \n",
    "    fontsize=24)\n",
    "plt.yticks(\n",
    "    ticks=np.arange(0, 8, 2), \n",
    "    fontsize=24)\n",
    "plt.savefig('../figs/mbpp_pass_at_k_performance_base.jpg', dpi=300, bbox_inches='tight', pad_inches=0.01)\n",
    "plt.show()\n",
    "\n"
   ]
  },
  {
   "cell_type": "code",
   "execution_count": 4,
   "metadata": {},
   "outputs": [
    {
     "name": "stdout",
     "output_type": "stream",
     "text": [
      "\u001b[94mdeepseek-coder-7b-instruct-v1.5_temp_0.8_debug1_sd-ut\u001b[0m\n",
      "\u001b[31mmbpp (base tests)\u001b[0m\n",
      "\u001b[31mpass@1:\t0.763405\u001b[0m\n",
      "\u001b[31mpass@5:\t0.862334\u001b[0m\n",
      "\u001b[31mpass@10:\t0.888462\u001b[0m\n",
      "\u001b[31mpass@50:\t0.923470\u001b[0m\n",
      "\u001b[31mpass@100:\t0.931922\u001b[0m\n",
      "\u001b[31mpass@200:\t0.939241\u001b[0m\n",
      "\u001b[32mmbpp+ (base + extra tests)\u001b[0m\n",
      "\u001b[32mpass@1:\t0.659139\u001b[0m\n",
      "\u001b[32mpass@5:\t0.774163\u001b[0m\n",
      "\u001b[32mpass@10:\t0.803296\u001b[0m\n",
      "\u001b[32mpass@50:\t0.844723\u001b[0m\n",
      "\u001b[32mpass@100:\t0.856630\u001b[0m\n",
      "\u001b[32mpass@200:\t0.868354\u001b[0m\n"
     ]
    }
   ],
   "source": [
    "work_dir = \"/mnt/scratch-artemis/haausing/code_reranking/evalplus_outputs/mbpp\"\n",
    "#gen_dir = \"deepseek-coder-7b-instruct-v1.5_temp_0.8_debug1_not_change_positive\"\n",
    "gen_dir = \"deepseek-coder-7b-instruct-v1.5_temp_0.8_debug1_sd-ut\"\n",
    "\n",
    "# load eval_results\n",
    "with open(f\"{work_dir}/{gen_dir}/eval_results.json\", \"r\") as f:\n",
    "    eval_results = json.load(f)\n",
    "for task_id in eval_results[\"eval\"]:\n",
    "    eval_results[\"eval\"][task_id] = sorted(eval_results[\"eval\"][task_id], key=lambda x: int(x[\"solution_id\"]))\n",
    "\n",
    "#pop out [\"Mbpp/6\", \"Mbpp/7\", \"Mbpp/8\", \"Mbpp/9\"]\n",
    "#for task_id in [\"Mbpp/6\", \"Mbpp/7\", \"Mbpp/8\", \"Mbpp/9\"]:\n",
    "#    eval_results[\"eval\"].pop(task_id)\n",
    "\n",
    "cprint(f\"{gen_dir}\", \"light_blue\")\n",
    "eval_pass_at_k(eval_results, base_only=False, dataset=\"mbpp\")"
   ]
  },
  {
   "cell_type": "code",
   "execution_count": 35,
   "metadata": {},
   "outputs": [
    {
     "name": "stdout",
     "output_type": "stream",
     "text": [
      "\u001b[94mcode-llama-7b-instruct_temp_0.2\u001b[0m\n",
      "\u001b[31mmbpp (base tests)\u001b[0m\n",
      "\u001b[31mpass@1:\t0.546114\u001b[0m\n",
      "\u001b[31mpass@5:\t0.584168\u001b[0m\n",
      "\u001b[31mpass@10:\t0.597411\u001b[0m\n",
      "\u001b[31mpass@20:\t0.607730\u001b[0m\n",
      "\u001b[31mpass@25:\t0.610226\u001b[0m\n",
      "\u001b[31mpass@50:\t0.615419\u001b[0m\n",
      "\u001b[31mpass@75:\t0.617263\u001b[0m\n",
      "\u001b[31mpass@100:\t0.618324\u001b[0m\n",
      "\u001b[31mpass@150:\t0.619544\u001b[0m\n",
      "\u001b[31mpass@200:\t0.620253\u001b[0m\n",
      "\u001b[32mmbpp+ (base + extra tests)\u001b[0m\n",
      "\u001b[32mpass@1:\t0.453506\u001b[0m\n",
      "\u001b[32mpass@5:\t0.485844\u001b[0m\n",
      "\u001b[32mpass@10:\t0.496825\u001b[0m\n",
      "\u001b[32mpass@20:\t0.505388\u001b[0m\n",
      "\u001b[32mpass@25:\t0.507486\u001b[0m\n",
      "\u001b[32mpass@50:\t0.512239\u001b[0m\n",
      "\u001b[32mpass@75:\t0.514345\u001b[0m\n",
      "\u001b[32mpass@100:\t0.515756\u001b[0m\n",
      "\u001b[32mpass@150:\t0.517644\u001b[0m\n",
      "\u001b[32mpass@200:\t0.518987\u001b[0m\n"
     ]
    },
    {
     "data": {
      "text/plain": [
       "({'pass@1': 0.546113924050633,\n",
       "  'pass@5': 0.5841680600242014,\n",
       "  'pass@10': 0.5974108493533412,\n",
       "  'pass@20': 0.6077298858975297,\n",
       "  'pass@25': 0.6102255067692002,\n",
       "  'pass@50': 0.6154194711728441,\n",
       "  'pass@75': 0.6172626944884646,\n",
       "  'pass@100': 0.6183242819107506,\n",
       "  'pass@150': 0.6195442035855832,\n",
       "  'pass@200': 0.620253164556962},\n",
       " {'pass@1': 0.4535063291139241,\n",
       "  'pass@5': 0.4858443443799364,\n",
       "  'pass@10': 0.49682509794409246,\n",
       "  'pass@20': 0.5053882823088316,\n",
       "  'pass@25': 0.5074858278386457,\n",
       "  'pass@50': 0.5122389714499331,\n",
       "  'pass@75': 0.5143449671320319,\n",
       "  'pass@100': 0.5157562500765015,\n",
       "  'pass@150': 0.517643843500532,\n",
       "  'pass@200': 0.5189873417721519})"
      ]
     },
     "execution_count": 35,
     "metadata": {},
     "output_type": "execute_result"
    }
   ],
   "source": [
    "work_dir = \"/mnt/scratch-artemis/haausing/code_reranking/evalplus_outputs/mbpp\"\n",
    "gen_dir = \"code-llama-7b-instruct_temp_0.2\"\n",
    "\n",
    "# load eval_results\n",
    "with open(f\"{work_dir}/{gen_dir}/eval_results.json\", \"r\") as f:\n",
    "    eval_results = json.load(f)\n",
    "for task_id in eval_results[\"eval\"]:\n",
    "    eval_results[\"eval\"][task_id] = sorted(eval_results[\"eval\"][task_id], key=lambda x: int(x[\"solution_id\"]))\n",
    "\n",
    "#pop out [\"Mbpp/6\", \"Mbpp/7\", \"Mbpp/8\", \"Mbpp/9\"]\n",
    "for task_id in [\"Mbpp/6\", \"Mbpp/7\", \"Mbpp/8\", \"Mbpp/9\"]:\n",
    "    eval_results[\"eval\"].pop(task_id)\n",
    "\n",
    "cprint(f\"{gen_dir}\", \"light_blue\")\n",
    "eval_pass_at_k(eval_results, base_only=False, dataset=\"mbpp\")"
   ]
  },
  {
   "cell_type": "code",
   "execution_count": 33,
   "metadata": {},
   "outputs": [
    {
     "name": "stdout",
     "output_type": "stream",
     "text": [
      "\u001b[94mcode-llama-7b-instruct_temp_0.8\u001b[0m\n",
      "\u001b[31mmbpp (base tests)\u001b[0m\n",
      "\u001b[31mpass@1:\t0.541848\u001b[0m\n",
      "\u001b[31mpass@5:\t0.654682\u001b[0m\n",
      "\u001b[31mpass@10:\t0.690243\u001b[0m\n",
      "\u001b[31mpass@20:\t0.716608\u001b[0m\n",
      "\u001b[31mpass@25:\t0.723262\u001b[0m\n",
      "\u001b[31mpass@50:\t0.739520\u001b[0m\n",
      "\u001b[31mpass@75:\t0.746828\u001b[0m\n",
      "\u001b[31mpass@100:\t0.751127\u001b[0m\n",
      "\u001b[31mpass@150:\t0.755496\u001b[0m\n",
      "\u001b[31mpass@200:\t0.756962\u001b[0m\n",
      "\u001b[32mmbpp+ (base + extra tests)\u001b[0m\n",
      "\u001b[32mpass@1:\t0.448785\u001b[0m\n",
      "\u001b[32mpass@5:\t0.549875\u001b[0m\n",
      "\u001b[32mpass@10:\t0.582668\u001b[0m\n",
      "\u001b[32mpass@20:\t0.606678\u001b[0m\n",
      "\u001b[32mpass@25:\t0.612737\u001b[0m\n",
      "\u001b[32mpass@50:\t0.628783\u001b[0m\n",
      "\u001b[32mpass@75:\t0.637593\u001b[0m\n",
      "\u001b[32mpass@100:\t0.643666\u001b[0m\n",
      "\u001b[32mpass@150:\t0.651395\u001b[0m\n",
      "\u001b[32mpass@200:\t0.655696\u001b[0m\n"
     ]
    },
    {
     "data": {
      "text/plain": [
       "({'pass@1': 0.5418481012658228,\n",
       "  'pass@5': 0.654681591558583,\n",
       "  'pass@10': 0.6902426012648786,\n",
       "  'pass@20': 0.7166078365749753,\n",
       "  'pass@25': 0.723261617044594,\n",
       "  'pass@50': 0.7395197979175396,\n",
       "  'pass@75': 0.7468277129989913,\n",
       "  'pass@100': 0.7511269741658061,\n",
       "  'pass@150': 0.7554956391250434,\n",
       "  'pass@200': 0.7569620253164557},\n",
       " {'pass@1': 0.4487848101265823,\n",
       "  'pass@5': 0.549874585938673,\n",
       "  'pass@10': 0.5826676421726437,\n",
       "  'pass@20': 0.6066776519474328,\n",
       "  'pass@25': 0.6127367484567747,\n",
       "  'pass@50': 0.628783076797045,\n",
       "  'pass@75': 0.6375929769910634,\n",
       "  'pass@100': 0.6436659933866777,\n",
       "  'pass@150': 0.651395023104091,\n",
       "  'pass@200': 0.6556962025316456})"
      ]
     },
     "execution_count": 33,
     "metadata": {},
     "output_type": "execute_result"
    }
   ],
   "source": [
    "work_dir = \"/mnt/scratch-artemis/haausing/code_reranking/evalplus_outputs/mbpp\"\n",
    "gen_dir = \"code-llama-7b-instruct_temp_0.8\"\n",
    "\n",
    "# load eval_results\n",
    "with open(f\"{work_dir}/{gen_dir}/eval_results.json\", \"r\") as f:\n",
    "    eval_results = json.load(f)\n",
    "for task_id in eval_results[\"eval\"]:\n",
    "    eval_results[\"eval\"][task_id] = sorted(eval_results[\"eval\"][task_id], key=lambda x: int(x[\"solution_id\"]))\n",
    "\n",
    "#pop out [\"Mbpp/6\", \"Mbpp/7\", \"Mbpp/8\", \"Mbpp/9\"]\n",
    "for task_id in [\"Mbpp/6\", \"Mbpp/7\", \"Mbpp/8\", \"Mbpp/9\"]:\n",
    "    eval_results[\"eval\"].pop(task_id)\n",
    "\n",
    "cprint(f\"{gen_dir}\", \"light_blue\")\n",
    "eval_pass_at_k(eval_results, base_only=False, dataset=\"mbpp\")"
   ]
  },
  {
   "cell_type": "code",
   "execution_count": 6,
   "metadata": {},
   "outputs": [
    {
     "name": "stdout",
     "output_type": "stream",
     "text": [
      "\u001b[94mcode-llama-13b-instruct_temp_0.8_debug1_sd-ut\u001b[0m\n",
      "\u001b[31mmbpp (base tests)\u001b[0m\n",
      "\u001b[31mpass@1:\t0.663633\u001b[0m\n",
      "\u001b[31mpass@5:\t0.770857\u001b[0m\n",
      "\u001b[31mpass@10:\t0.799363\u001b[0m\n",
      "\u001b[31mpass@50:\t0.842066\u001b[0m\n",
      "\u001b[31mpass@100:\t0.854833\u001b[0m\n",
      "\u001b[31mpass@200:\t0.868354\u001b[0m\n",
      "\u001b[32mmbpp+ (base + extra tests)\u001b[0m\n",
      "\u001b[32mpass@1:\t0.554785\u001b[0m\n",
      "\u001b[32mpass@5:\t0.645966\u001b[0m\n",
      "\u001b[32mpass@10:\t0.672905\u001b[0m\n",
      "\u001b[32mpass@50:\t0.722668\u001b[0m\n",
      "\u001b[32mpass@100:\t0.740653\u001b[0m\n",
      "\u001b[32mpass@200:\t0.756962\u001b[0m\n"
     ]
    }
   ],
   "source": [
    "work_dir = \"/mnt/scratch-artemis/haausing/code_reranking/evalplus_outputs/mbpp\"\n",
    "gen_dir = \"code-llama-13b-instruct_temp_0.8_debug1_sd-ut\"\n",
    "\n",
    "# load eval_results\n",
    "with open(f\"{work_dir}/{gen_dir}/eval_results.json\", \"r\") as f:\n",
    "    eval_results = json.load(f)\n",
    "for task_id in eval_results[\"eval\"]:\n",
    "    eval_results[\"eval\"][task_id] = sorted(eval_results[\"eval\"][task_id], key=lambda x: int(x[\"solution_id\"]))\n",
    "\n",
    "#pop out [\"Mbpp/6\", \"Mbpp/7\", \"Mbpp/8\", \"Mbpp/9\"]\n",
    "#for task_id in [\"Mbpp/6\", \"Mbpp/7\", \"Mbpp/8\", \"Mbpp/9\"]:\n",
    "#    eval_results[\"eval\"].pop(task_id)\n",
    "\n",
    "cprint(f\"{gen_dir}\", \"light_blue\")\n",
    "eval_pass_at_k(eval_results, base_only=False, dataset=\"mbpp\")"
   ]
  },
  {
   "cell_type": "code",
   "execution_count": null,
   "metadata": {},
   "outputs": [],
   "source": []
  }
 ],
 "metadata": {
  "kernelspec": {
   "display_name": "evalplus",
   "language": "python",
   "name": "python3"
  },
  "language_info": {
   "codemirror_mode": {
    "name": "ipython",
    "version": 3
   },
   "file_extension": ".py",
   "mimetype": "text/x-python",
   "name": "python",
   "nbconvert_exporter": "python",
   "pygments_lexer": "ipython3",
   "version": "3.9.18"
  }
 },
 "nbformat": 4,
 "nbformat_minor": 2
}
