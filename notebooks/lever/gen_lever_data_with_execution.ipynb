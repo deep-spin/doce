{
 "cells": [
  {
   "cell_type": "code",
   "execution_count": 1,
   "metadata": {},
   "outputs": [
    {
     "name": "stderr",
     "output_type": "stream",
     "text": [
      "/mnt/data-poseidon/haausing/miniconda3/envs/evalplus/lib/python3.9/site-packages/tqdm/auto.py:21: TqdmWarning: IProgress not found. Please update jupyter and ipywidgets. See https://ipywidgets.readthedocs.io/en/stable/user_install.html\n",
      "  from .autonotebook import tqdm as notebook_tqdm\n"
     ]
    }
   ],
   "source": [
    "from evalplus.data import (\n",
    "    get_human_eval_plus,\n",
    "    get_human_eval_plus_hash,\n",
    "    get_mbpp_plus,\n",
    "    get_mbpp_plus_hash,\n",
    "    load_solutions,\n",
    ")\n",
    "import ast\n",
    "from tqdm import tqdm\n",
    "from datasets import load_dataset"
   ]
  },
  {
   "cell_type": "code",
   "execution_count": 2,
   "metadata": {},
   "outputs": [],
   "source": [
    "dataset = load_dataset(\"evalplus/mbppplus\")\n",
    "mbpp_original = load_dataset(\"mbpp\", \"sanitized\")\n",
    "problems = get_mbpp_plus()\n",
    "for elem in dataset[\"test\"]:\n",
    "    task_id = \"Mbpp/{}\".format(elem[\"task_id\"])\n",
    "    problems[task_id][\"text\"] = elem[\"prompt\"]\n",
    "dataset_dict = {\"Mbpp/{}\".format(e[\"task_id\"]): e for e in dataset[\"test\"]}\n",
    "mbpp_original_dict = {\"Mbpp/{}\".format(e[\"task_id\"]): e \n",
    "                      for partition in [\"train\", \"test\", \"validation\", \"prompt\"] \n",
    "                      for e in mbpp_original[partition]}"
   ]
  },
  {
   "cell_type": "code",
   "execution_count": 5,
   "metadata": {},
   "outputs": [
    {
     "data": {
      "text/plain": [
       "'\"\"\"\\nWrite a function to find the shared elements from the given two lists.\\nassert set(similar_elements((3, 4, 5, 6),(5, 7, 4, 10))) == set((4, 5))\\n\"\"\"\\n'"
      ]
     },
     "execution_count": 5,
     "metadata": {},
     "output_type": "execute_result"
    }
   ],
   "source": [
    "problems[\"Mbpp/2\"][\"prompt\"]"
   ]
  },
  {
   "cell_type": "code",
   "execution_count": 7,
   "metadata": {},
   "outputs": [
    {
     "data": {
      "text/plain": [
       "{'task_id': 2,\n",
       " 'code': '\\ndef similar_elements(test_tup1, test_tup2):\\n  return tuple(set(test_tup1) & set(test_tup2))\\n',\n",
       " 'prompt': 'Write a function to find the shared elements from the given two lists.',\n",
       " 'source_file': 'Benchmark Questions Verification V2.ipynb',\n",
       " 'test_imports': [],\n",
       " 'test_list': ['assert set(similar_elements((3, 4, 5, 6),(5, 7, 4, 10))) == set((4, 5))',\n",
       "  'assert set(similar_elements((1, 2, 3, 4),(5, 4, 3, 7))) == set((3, 4))',\n",
       "  'assert set(similar_elements((11, 12, 14, 13),(17, 15, 14, 13))) == set((13, 14))'],\n",
       " 'test': \"\\n\\nimport numpy as np\\n\\ndef is_floats(x) -> bool:\\n    # check if it is float; List[float]; Tuple[float]\\n    if isinstance(x, float):\\n        return True\\n    if isinstance(x, (list, tuple)):\\n        return all(isinstance(i, float) for i in x)\\n    if isinstance(x, np.ndarray):\\n        return x.dtype == np.float64 or x.dtype == np.float32\\n    return False\\n\\n\\ndef assertion(out, exp, atol):\\n    exact_match = out == exp\\n\\n    if atol == 0 and is_floats(exp):\\n        atol = 1e-6\\n    if not exact_match and atol != 0:\\n        np.testing.assert_allclose(out, exp, atol=atol)\\n    else:\\n        assert exact_match\\n\\n\\ninputs = [[(3, 4, 5, 6), (5, 7, 4, 10)], [(1, 2, 3, 4), (5, 4, 3, 7)], [(11, 12, 14, 13), (17, 15, 14, 13)], [(), ()], [(1, 2, 3), ()], [(), (4, 5, 6)], [(1, 2, 3, 4, 5, 6, 7, 8, 9, 10), (11, 12, 13, 14, 15, 16, 17, 18, 19, 20)], [(1, 2, 2, 3, 3, 4, 4, 5, 5), (5, 5, 6, 6, 7, 7, 8, 8, 9, 9)], [(100, 200, 300, 400, 500), (100, 200, 400, 500)], [(10, 20, 30, 40, 50), (50, 60, 70, 80)], [(1, 2, 3, 4, 4, 5, 5), (4, 5, 6)], [(), (True, False, False, False, False, True)], [(1, 2, 3, 4, 5, 6, 7, 8, 9, 10), (11, 12, 13, 14, 15, 16, 17, 18, 19, 20, 15)], [(1, 2, 3, 4, 5, 6, 7, 8, 9, 10), (11, 12, 13, 14, 15, 16, 17, 19, 20, 15)], [(1, 2, 3, 1), ()], [('kx', 'DHBNiditD'), (4, 5, 6)], [(1, 2, 2, 70, 3, 4, 4, 5, 5, 4, 3), (5, 5, 6, 6, 7, 7, 8, 8, 9, 9)], [(False, False, False, False, True), (False, False, False, False, False)], [(1, 2, 3, 4, 5, 6, 7, 8, 9, 10), (1, 2, 3, 4, 5, 6, 7, 8, 9, 10)], [(8.514020219858878, -25.802494572247724, 5.873698915603498, 38.044354120134614, 11.222647627029431, 26.914534243589074, 78.41454157921689, -80.88414039955265), ('ceRuVEV', 'aAXslGdbD', 'DHBNiditD', 'fHRtFowQVh', 'ITntCqEvPi', 'SmJpP', 'DHBNiditD', 'kx', 'x')], [(False, False, False, False, False), (False, False, False, False, False)], [(), (5, 6)], [(1, 2, 2, 70, 3, 4, 4, 5, 5, 4, 3, 2), (1, 2, 2, 70, 3, 4, 4, 5, 5, 4, 3, 2)], [(1, 2, 3, 4, 5, 6, 12, 7, 8, 9, 0, 10), (1, 3, 4, 5, 6, 7, 8, 9, 0, 10)], [(1, 2, 3, 4, 5, 6, 12, 7, 8, 9, 0, 10, 10), (1, 3, 4, 5, 6, 7, 8, 9, 0, 10)], [(), (True, False, False, False)], [(4, 5, 16, 5), (1, 6, 3, 4, 4, 5, 5)], [('DRwvS', 'FdzAtAvnsS', 'ITntCqEvPi', 'nlUsIhET', 'ITntCqEvPi', 'x'), (True, False, True, False, True, False, True)], [(1, 2, 20), ()], [(11, 12, 13, 14, 15, 16, 17, 19, 20, 15), (11, 12, 13, 14, 15, 16, 17, 19, 20, 15)], [(1, 2, 3, 4, 5, 6, 12, 7, 8, 9, 0, 10, 10), (300, 1, 3, 4, 5, 6, 7, 8, 9, 0, 9)], [(False, False, False, False, False), (False, False, False, False)], [(1, 400, 3, 4, 4, 5, 5), (1, 400, 3, 4, 4, 5, 5, 5)], [(), (6,)], [(1, 2, 2, 3, 3, 4, 4, 5, 5), (5, 5, 6, 6, 7, 7, 8, 8, 9, 9, 7)], [(1, 2, 3, 4, 5, 6, 7, 8, 9, 2, 10), (1, 2, 3, 4, 5, 6, 7, 8, 60, 10, 1)], [(1, 2, 3, 4, 5, 6, 7, 8, 9, 10), (1, 2, 3, 4, 4, 6, 7, 8, 9, 10)], [(1, 2, 2, 3, 3, 4, 4, 5, 5, 3), (5, 5, 6, 6, 7, 7, 8, 8, 9, 9)], [(100, 200, 300, 400, 500, 400, 300), (100, 200, 400, 500)], [('DRwvS', 'ITntCqEvPi', 'tUqF', 'ITntCqEvPi'), (4, 6, 6)], [(5, 2, 3), (1, 2, 3)], [(), (500, -45, 96, 22)], [(1, 2, 2, 70, 3, 4, 4, 5, 69, 5, 4, 3, 2), (1, 2, 2, 70, 3, 4, 4, 5, 69, 5, 4, 3, 2)], [(5, 5, 6, 6, 7, 7, 8, 8, 9, 9, 7), (5, 5, 6, 6, 7, 7, 8, 8, 9, 9)], [(1, 2, 2, 2, 70, 3, 4, 4, 5, 5, 4, 3), (5, 5, 6, 6, 7, 7, 8, 8, 9, 9)], [(1, 2, 2, 3, 3, 4, 4, 5, 5, 3), (1, 2, 2, 3, 3, 4, 4, 5, 5, 3)], [('DRwvS', 'ITntCqEvPi', 'SmJpP', 'tUqF', 'ITntCqEvPi'), (4, 6, 6)], [(5, 5, 6, 6, 7, 8, 9, 9), (5, 5, 6, 6, 7, 7, 8, 9, 9)], [(1, 2, 20), (1, 2, 20)], [(1, 2, 3, 4, 5, 6, 7, 8, 9, 10, 10), (11, 12, 13, 14, 15, 16, 17, 19, 20, 15)], [(12, 2, 20), (1, 2, 19)], [(11, 12, 13, 14, 15, 16, 17, 19, 20, 15), (11, 12, 13, 14, 15, 16, 17, 19, 20, 15, 20)], [(12, 2, 21), (12, 2, 20)], [(1, 2, 3, 5, 6, 12, 7, 8, 9, 10, 10), (1, 2, 3, 4, 5, 6, 12, 7, 8, 12, 0, 10, 10)], [(12, 2, 20, 20), (12, 2, 20)], [(6,), (6,)], [('LsgdJOGUO', 'nsDO', 'ceRuVEV', 'BohovaWqz', 'vovSNBB', 'BohovaWqz'), (True, False, False)], [('DRwvS', 'ITntCqEvPi', 'SmJpP', 'DRwvS'), ('DRwvS', 'ITntCqEvPi', 'SmJpP', 'tUqF', 'ITntCqEvPi')], [(300, 1, 3, 4, 5, 6, 8, 9, 0, 9), (300, 1, 3, 4, 5, 6, 7, 8, 9, 0, 9)], [(False, True, False, True, False, False, True, False, True), (False, True, False, True, False, False, True, False, True)], [(1, 2, 3, 4, 5, 6, 7, 8, 9), (11, 12, 13, 14, 15, 16, 17, 18, 19, 20, 15)], [(1, 3, 2, 3), (1, 3, 2, 3)], [(False, False, False, False, False), (False, False, False, False, True, False)], [('kx', 'DHBNiditD', 'DHBNiditD'), (4, 5, 6)], [(1, 1, 2, 3, 1), ()], [(1, 2, 3, 5, 6, 6, 7, 8, 9, 10), (1, 2, 3, 4, 5, 6, 6, 7, 8, 9, 10)], [(1, 2, 3, 4, 5, 6, 7, -45, 8, 9, 2, 10), (1, 2, 3, 4, 5, 6, 7, 8, 9, 2, 10)], [(26, True, 26.914534243589074, -44), ()], [(11, 12, 13, 14, 15, 70, 17, 18, 19, 20, 15), (11, 12, 13, 14, 15, 70, 17, 18, 19, 20, 15)], [(300, 1, 3, 2, 4, 5, 6, 8, 9, 0, 9), (300, 1, 3, 4, 5, 6, 7, 8, 9, 0, 9)], [(100, 201, 300, 400, 500), (100, 200, 300, 400, 500)], [(1, 2, 3, 4, 5, 6, 12, 7, 8, 9, 0, 10, 10), (7, 1, 2, 3, 4, 5, 6, 12, 7, 8, 9, 0, 10, 10)], [(False, True, False, False), (False, False, False, False)], [(7, 1, 2, 3, 4, 4, 6, 12, 7, 8, 9, 0, 10, 10), (7, 1, 2, 3, 4, 5, 6, 12, 7, 8, 9, 0, 10, 10)], [(4, 16, 5), (4, 5, 16, 5)], [(1, 2, 3, 4, 5, 6, 6, 7, 8, 9, 9), (1, 2, 3, 5, 6, 6, 7, 8, 9, 10)], [(11, 12, 13, 14, 15, 16, 17, 19, 20, 15), (11, 12, 13, 4, 15, 16, 17, 19, 20, 15, 20)], [(7, 7), (6,)], [(1, 2, 2, 3, 3, 4, 4, 5, 5, 3, 4), (5, 5, 6, 6, 7, 7, 8, 8, 9, 9)], [(100, 200, 300, 400, 500, 400, 300), (499, 200, 400, 500)], [(False, False, False, False, False, False), (False, False, False, False, False, False)], [(), (4, 6, 6)], [(4, 5, 6), (4, 4, 5, 6)], [(12, 2, 20, 20, 2), (12, 2, 20, 20)], [(11, 12, 13, 14, 15, 16, 17, 19, 20, 15, 11), (11, 12, 13, 14, 15, 16, 17, 19, 20, 15)], [(16, 1, 2, 3), (1, 2, 3)], [(1, 2, 3, 4, 5, 6, 6, 7, 8, 9, 10), (1, 2, 3, 5, 6, 6, 7, 8, 9, 10)], [(30.445411706111912, 18.10848826924409, 24.97646124690165, -55.873347006206544), (500, -45, 96, 22)], [(12, 2, 20), (12, 2, 20, 20)], [(2, 3), (1, 2, 3)], [(1, 3, 2, 3), (1, 3, 3)], [(12, 20), (12, 18, 20)], [(False, False, False, False, False), (False, True, False, False, False, False)], [(4, 6, 6, 4), (4, 6, 6)], [(1, 1, 2, 3, 4, 5, 6, 7, 8, 9), (11, 15, 12, 13, 14, 15, 16, 17, 18, 19, 20, 16)], [(5, 5, 19, 6, 6, 7, 7, 8, 9, 9), (5, 5, 6, 6, 7, 7, 8, 9, 9)], [(5, 19, 5, 16, 5), (1, 6, 3, 4, 4, 5, 5)], [(-95.16136488545524, 8.514020219858878, -25.802494572247724, 5.873698915603498, 38.044354120134614, 11.222647627029431, 26.914534243589074, 78.41454157921689, -80.88414039955265), ('ceRuVEV', 'aAXslGdbD', 'DHBNiditD', 'fHRtFowQVh', 'ITntCqEvPi', 'SmJpP', 'DHBNiditD', 'kx', 'x')], [(100, 200, 300, 400), (100, 200, 300, 400)], [(1, 2, 20, 2), (1, 2, 20)], [(False, False, False, False), (False, True, False, False)], [(1, 2, 3, 4, 4, 6, 7, 8, 9, 10), (1, 2, 3, 4, 4, 6, 7, 8, 9, 10)], [(False, False, False, False), (False, True, False, False, True)], [(1, 400, 3, 4, 4, 5, 5, 5, 3), (1, 400, 3, 4, 12, 4, 5, 5, 5, 3)], [('DRwvS', 'ITntCqEvPi', 'SmJpP', 'tUqF', 'kx', 'tUqF'), ('DRwvS', 'ITntCqEvPi', 'SmJpP', 'tUqF', 'kx', 'tUqF')], [(1, 2, 3, 5, 6, 12, 7, 8, 9, 0, 10), (1, 3, 4, 5, 6, 7, 8, 9, 0, 10)], [('DRwvS', 'ITntCqEvPi', 'SmJpP', 'tUqF', 'kx', 'SmITntCqEvPiJpP', 'tUqF'), ('DRwvS', 'ITntCqEvPi', 'SmJpP', 'tUqF', 'kx', 'tUqF')], [(1, 2, 3, 4, 5, 6, 7, 8, 9), (1, 2, 3, 4, 5, 6, 7, 8, 9, 10)], [(11, 12, 13, 14, 15, 26, 16, 17, 19, 20, 15), (11, 12, 13, 14, 15, 16, 17, 19, 20, 15)], [(5, 19, 5, 16, 5, 5), (5, 19, 5, 6, 5)], [(1, 2, 3, 6, 12, 7, 8, 9, 10, 10), (1, 2, 3, 5, 6, 12, 7, 8, 9, 10, 10)]]\\nresults = [(4, 5), (3, 4), (13, 14), (), (), (), (), (5,), (200, 100, 500, 400), (50,), (4, 5), (), (), (), (), (), (5,), (False,), (1, 2, 3, 4, 5, 6, 7, 8, 9, 10), (), (False,), (), (1, 2, 3, 4, 5, 70), (0, 1, 3, 4, 5, 6, 7, 8, 9, 10), (0, 1, 3, 4, 5, 6, 7, 8, 9, 10), (), (4, 5), (), (), (11, 12, 13, 14, 15, 16, 17, 19, 20), (0, 1, 3, 4, 5, 6, 7, 8, 9), (False,), (1, 3, 4, 5, 400), (), (5,), (1, 2, 3, 4, 5, 6, 7, 8, 10), (1, 2, 3, 4, 6, 7, 8, 9, 10), (5,), (200, 100, 500, 400), (), (2, 3), (), (1, 2, 3, 4, 5, 70, 69), (5, 6, 7, 8, 9), (5,), (1, 2, 3, 4, 5), (), (5, 6, 7, 8, 9), (1, 2, 20), (), (2,), (11, 12, 13, 14, 15, 16, 17, 19, 20), (2, 12), (1, 2, 3, 5, 6, 7, 8, 10, 12), (2, 12, 20), (6,), (), ('DRwvS', 'SmJpP', 'ITntCqEvPi'), (0, 1, 3, 4, 5, 6, 8, 9, 300), (False, True), (), (1, 2, 3), (False,), (), (), (1, 2, 3, 5, 6, 7, 8, 9, 10), (1, 2, 3, 4, 5, 6, 7, 8, 9, 10), (), (70, 11, 12, 13, 14, 15, 17, 18, 19, 20), (0, 1, 3, 4, 5, 6, 8, 9, 300), (400, 100, 500, 300), (0, 1, 2, 3, 4, 5, 6, 7, 8, 9, 10, 12), (False,), (0, 1, 2, 3, 4, 6, 7, 8, 9, 10, 12), (16, 4, 5), (1, 2, 3, 5, 6, 7, 8, 9), (11, 12, 13, 15, 16, 17, 19, 20), (), (5,), (200, 500, 400), (False,), (), (4, 5, 6), (2, 12, 20), (11, 12, 13, 14, 15, 16, 17, 19, 20), (1, 2, 3), (1, 2, 3, 5, 6, 7, 8, 9, 10), (), (2, 12, 20), (2, 3), (1, 3), (12, 20), (False,), (4, 6), (), (5, 6, 7, 8, 9), (5,), (), (200, 100, 400, 300), (1, 2, 20), (False,), (1, 2, 3, 4, 6, 7, 8, 9, 10), (False,), (1, 3, 4, 5, 400), ('DRwvS', 'ITntCqEvPi', 'kx', 'tUqF', 'SmJpP'), (0, 1, 3, 5, 6, 7, 8, 9, 10), ('DRwvS', 'ITntCqEvPi', 'kx', 'tUqF', 'SmJpP'), (1, 2, 3, 4, 5, 6, 7, 8, 9), (11, 12, 13, 14, 15, 16, 17, 19, 20), (19, 5), (1, 2, 3, 6, 7, 8, 9, 10, 12)]\\nfor i, (inp, exp) in enumerate(zip(inputs, results)):\\n    assertion(similar_elements(*inp), exp, 0)\\n\"}"
      ]
     },
     "execution_count": 7,
     "metadata": {},
     "output_type": "execute_result"
    }
   ],
   "source": [
    "dataset_dict[\"Mbpp/2\"]"
   ]
  },
  {
   "cell_type": "code",
   "execution_count": 3,
   "metadata": {},
   "outputs": [],
   "source": [
    "# load json file\n",
    "import json\n",
    "import pandas as pd\n",
    "def load_json(dir_path: str):\n",
    "    with open(dir_path, \"r\") as f:\n",
    "        return json.load(f)\n",
    "\n",
    "outputs_dir = \"/mnt/scratch-artemis/haausing/code_reranking/evalplus_outputs/mbpp\"\n",
    "llm = \"deepseek-coder-7b-instruct-v1.5_temp_0.8\""
   ]
  },
  {
   "cell_type": "code",
   "execution_count": 4,
   "metadata": {},
   "outputs": [],
   "source": [
    "eval_results = load_json(f\"{outputs_dir}/{llm}/eval_results_base_plus.json\")\n",
    "for task_id in eval_results[\"eval\"]:\n",
    "    eval_results[\"eval\"][task_id] = sorted(eval_results[\"eval\"][task_id], key=lambda x: int(x[\"solution_id\"]))"
   ]
  },
  {
   "cell_type": "code",
   "execution_count": 5,
   "metadata": {},
   "outputs": [],
   "source": [
    "log_probs = pd.read_pickle(f\"{outputs_dir}/{llm}/logprobs.pkl\")"
   ]
  },
  {
   "cell_type": "code",
   "execution_count": 6,
   "metadata": {},
   "outputs": [],
   "source": [
    "execution_results = pd.read_pickle(f\"{outputs_dir}/{llm}/new_exec_outs.pkl\")\n",
    "exec_outs = {}\n",
    "for e in execution_results:\n",
    "    if (\"Mbpp/\"+e[\"task_id\"]) not in exec_outs:\n",
    "        exec_outs[\"Mbpp/\"+e[\"task_id\"]] = {}\n",
    "    if e[\"solution_id\"] not in exec_outs[\"Mbpp/\"+e[\"task_id\"]]:\n",
    "        exec_outs[\"Mbpp/\"+e[\"task_id\"]][e[\"solution_id\"]] = {}\n",
    "    exec_outs[\"Mbpp/\"+e[\"task_id\"]][e[\"solution_id\"]][e[\"base_plus\"]] = e[\"execution\"]\n",
    "execution_results = None"
   ]
  },
  {
   "cell_type": "code",
   "execution_count": 7,
   "metadata": {},
   "outputs": [],
   "source": [
    "ref_execution_results = pd.read_pickle(f\"/home/haausing/.cache/evalplus/ebe95df0d5220f00cedd6f4bddea35e4.pkl\")"
   ]
  },
  {
   "cell_type": "code",
   "execution_count": 8,
   "metadata": {},
   "outputs": [],
   "source": [
    "for task_id in ref_execution_results:\n",
    "    assert len(ref_execution_results[task_id][\"base\"]) > 0\n",
    "    try:\n",
    "        assert len(ref_execution_results[task_id][\"plus\"]) + len(ref_execution_results[task_id][\"base\"])> 0\n",
    "    except:\n",
    "        print(task_id)"
   ]
  },
  {
   "cell_type": "code",
   "execution_count": 9,
   "metadata": {},
   "outputs": [],
   "source": [
    "#['code', 'exec_match', 'linear_score', 'exec_result', 'gen_prob', 'norm_gen_prob']\n",
    "def create_data():\n",
    "    train_data = []\n",
    "    dev_data = []\n",
    "    test_data = []\n",
    "    for elem in tqdm(dataset[\"test\"]):\n",
    "        task_id = \"Mbpp/{}\".format(elem[\"task_id\"])\n",
    "        base_input_counts = len(ref_execution_results[task_id][\"base\"])\n",
    "        plus_input_counts = len(ref_execution_results[task_id][\"plus\"])\n",
    "        test_list = [e for e in problems[task_id][\"assertion\"].strip().split(\"\\n\") if e.startswith(\"assert \")]\n",
    "        for i in range(len(test_list)):\n",
    "            if test_list[i].startswith(\"assert math.isclose(\"):\n",
    "                test_list[i] = test_list[i].replace(\"math.isclose(\", \"\")\n",
    "                test_list[i] = test_list[i].replace(\", rel_tol=0.001)\", \"\")\n",
    "                test_list[i] = \",\".join(test_list[i].split(\",\")[:-1]) + \" ==\" + test_list[i].split(\",\")[-1]\n",
    "        metadata = {\"text\": problems[task_id][\"text\"],\n",
    "                    \"test_list\": test_list,\n",
    "                    \"task_id\": task_id,}\n",
    "        for test in metadata[\"test_list\"]:\n",
    "            ast.parse(test)\n",
    "        gold_program = {\n",
    "            \"code\": problems[task_id][\"canonical_solution\"], \n",
    "            \"base\": {\n",
    "                \"exec_match\": 1, \n",
    "                \"linear_score\": 1.0, \n",
    "                \"exec_result\": \n",
    "                    [\n",
    "                    {\n",
    "                        \"result\": \"passed\", \n",
    "                        \"tracing_local_list\": \n",
    "                            [\n",
    "                                {\n",
    "                                    \"_return_val\": \n",
    "                                        {\n",
    "                                            \"type\": str(type(ref_execution_results[task_id][\"base\"][i])),\n",
    "                                            \"str_value\": str(ref_execution_results[task_id][\"base\"][i]),\n",
    "                                        }\n",
    "                                }\n",
    "                            ]\n",
    "                    }\n",
    "                    for i in range(base_input_counts)\n",
    "                    ],\n",
    "            },\n",
    "            \"plus\": {\n",
    "                \"exec_match\": 1,\n",
    "                \"linear_score\": 1.0,\n",
    "                \"plus_exec_result\": \n",
    "                    [\n",
    "                    {\n",
    "                        \"result\": \"passed\", \n",
    "                        \"tracing_local_list\": \n",
    "                            [\n",
    "                                {\n",
    "                                    \"_return_val\": \n",
    "                                        {\n",
    "                                            \"type\": str(type(ref_execution_results[task_id][\"plus\"][i])),\n",
    "                                            \"str_value\": str(ref_execution_results[task_id][\"plus\"][i]),\n",
    "                                        }\n",
    "                                }\n",
    "                            ]\n",
    "                    }\n",
    "                    for i in range(plus_input_counts)\n",
    "                    ],\n",
    "            },\n",
    "            \"gen_prob\": 0, \n",
    "            \"norm_gen_prob\": 0}\n",
    "        generated_programs = []\n",
    "        for e in eval_results[\"eval\"][task_id]:\n",
    "            sample_dict = {\"code\": e[\"solution\"],\n",
    "                        \"base\": {\n",
    "                            \"exec_match\": int(e[\"base_status\"] == \"pass\"),\n",
    "                            \"linear_score\": sum(e[\"base_details\"]) / base_input_counts,\n",
    "                            },\n",
    "                        \"plus\":{\n",
    "                            \"exec_match\": int(e[\"base_status\"] == e[\"plus_status\"] == \"pass\"),\n",
    "                            \"linear_score\": (sum(e[\"base_details\"]) + sum(e[\"plus_details\"])) / (base_input_counts + plus_input_counts),\n",
    "                        },\n",
    "                        \"gen_prob\": sum(log_probs[task_id.replace(\"/\",\"_\")][int(e[\"solution_id\"])]),\n",
    "                        \"norm_gen_prob\": sum(log_probs[task_id.replace(\"/\",\"_\")][int(e[\"solution_id\"])])/len(log_probs[task_id.replace(\"/\",\"_\")][int(e[\"solution_id\"])]),\n",
    "                        }\n",
    "            # try to parse e[\"solution\"] with ast\n",
    "            try:\n",
    "                ast.parse(e[\"solution\"])\n",
    "            except:\n",
    "                assert sample_dict[\"base\"][\"exec_match\"] == sample_dict[\"plus\"][\"exec_match\"] == 0\n",
    "                sample_dict[\"base\"][\"exec_result\"] = \"ERROR: program is not parsable\"\n",
    "                sample_dict[\"plus\"][\"exec_result\"] = \"ERROR: program is not parsable\"\n",
    "                generated_programs.append(sample_dict)\n",
    "                continue\n",
    "            base_eval_results = []\n",
    "            plus_eval_results = []\n",
    "            for i in range(base_input_counts):\n",
    "                if \"failed\" in exec_outs[task_id][int(e[\"solution_id\"])]:\n",
    "                    base_eval_results.append({\"result\": \"failed: dictionary unloadable\"})\n",
    "                    continue\n",
    "                # if we don't find the output or if it's not included in the details, \n",
    "                # we see that the code is actually not producing outputs, referring to assertion error in LEVER\n",
    "                if i not in exec_outs[task_id][int(e[\"solution_id\"])][\"base\"] or len(e[\"base_details\"]) <= i:\n",
    "                    base_eval_results.append({\"result\": \"failed: assertion error\"})\n",
    "                    continue\n",
    "                if type(exec_outs[task_id][int(e[\"solution_id\"])][\"base\"][i]) == str and exec_outs[task_id][int(e[\"solution_id\"])][\"base\"][i] == \"failed: \":\n",
    "                    base_eval_results.append({\"result\": \"failed: unknown error\"})\n",
    "                    continue\n",
    "                if type(exec_outs[task_id][int(e[\"solution_id\"])][\"base\"][i]) == str and exec_outs[task_id][int(e[\"solution_id\"])][\"base\"][i] == \"failed: Time out!\":\n",
    "                    base_eval_results.append({\"result\": \"timeout\"})\n",
    "                    continue\n",
    "                if type(exec_outs[task_id][int(e[\"solution_id\"])][\"base\"][i]) == str and exec_outs[task_id][int(e[\"solution_id\"])][\"base\"][i].startswith(\"failed: \"):\n",
    "                    base_eval_results.append({\"result\": exec_outs[task_id][int(e[\"solution_id\"])][\"base\"][i]})\n",
    "                    continue\n",
    "                base_eval_results.append(\n",
    "                    {\n",
    "                        \"result\": \"passed\", \n",
    "                        \"tracing_local_list\": \n",
    "                            [\n",
    "                                {\n",
    "                                    \"_return_val\":\n",
    "                                        {\n",
    "                                            \"type\": str(type(exec_outs[task_id][int(e[\"solution_id\"])][\"base\"][i])), \n",
    "                                            \"str_value\": str(exec_outs[task_id][int(e[\"solution_id\"])][\"base\"][i]),\n",
    "                                        }\n",
    "                                }\n",
    "                            ]\n",
    "                    }\n",
    "                )\n",
    "\n",
    "            for i in range(plus_input_counts):\n",
    "                if \"failed\" in exec_outs[task_id][int(e[\"solution_id\"])]:\n",
    "                    plus_eval_results.append({\"result\": \"failed: dictionary unloadable\"})\n",
    "                    continue\n",
    "                # if we don't find the output or if it's not included in the details, \n",
    "                # we see that the code is actually not producing outputs, referring to assertion error in LEVER\n",
    "                if i not in exec_outs[task_id][int(e[\"solution_id\"])][\"plus\"] or len(e[\"plus_details\"]) <= i:\n",
    "                    plus_eval_results.append({\"result\": \"failed: assertion error\"})\n",
    "                    continue\n",
    "                if type(exec_outs[task_id][int(e[\"solution_id\"])][\"plus\"][i]) == str and exec_outs[task_id][int(e[\"solution_id\"])][\"plus\"][i] == \"failed: \":\n",
    "                    plus_eval_results.append({\"result\": \"failed: unknown error\"})\n",
    "                    continue\n",
    "                if type(exec_outs[task_id][int(e[\"solution_id\"])][\"plus\"][i]) == str and exec_outs[task_id][int(e[\"solution_id\"])][\"plus\"][i] == \"failed: Time out!\":\n",
    "                    plus_eval_results.append({\"result\": \"timeout\"})\n",
    "                    continue\n",
    "                if type(exec_outs[task_id][int(e[\"solution_id\"])][\"plus\"][i]) == str and exec_outs[task_id][int(e[\"solution_id\"])][\"plus\"][i].startswith(\"failed: \"):\n",
    "                    plus_eval_results.append({\"result\": exec_outs[task_id][int(e[\"solution_id\"])][\"plus\"][i]})\n",
    "                    continue\n",
    "                plus_eval_results.append(\n",
    "                    {\n",
    "                        \"result\": \"passed\", \n",
    "                        \"tracing_local_list\": \n",
    "                            [\n",
    "                                {\n",
    "                                    \"_return_val\":\n",
    "                                        {\n",
    "                                            \"type\": str(type(exec_outs[task_id][int(e[\"solution_id\"])][\"plus\"][i])), \n",
    "                                            \"str_value\": str(exec_outs[task_id][int(e[\"solution_id\"])][\"plus\"][i]),\n",
    "                                        }\n",
    "                                }\n",
    "                            ]\n",
    "                    }\n",
    "                )\n",
    "            sample_dict[\"base\"][\"exec_result\"] = base_eval_results\n",
    "            sample_dict[\"plus\"][\"exec_result\"] = plus_eval_results\n",
    "            generated_programs.append(sample_dict)\n",
    "        \n",
    "\n",
    "        if int(elem[\"task_id\"]) > 600: # this is for the training partition\n",
    "            train_data.append({\"metadata\": metadata,\n",
    "                            \"gold_program\": gold_program,\n",
    "                            \"generated_programs\": generated_programs,})\n",
    "        elif int(elem[\"task_id\"]) > 510 and int(elem[\"task_id\"]) <=600: # this is for the development partition\n",
    "            dev_data.append({\"metadata\": metadata,\n",
    "                            \"gold_program\": gold_program,\n",
    "                            \"generated_programs\": generated_programs,})\n",
    "        elif int(elem[\"task_id\"]) > 10 and int(elem[\"task_id\"]) <= 510: # this is for the test partition\n",
    "            test_data.append({\"metadata\": metadata,\n",
    "                            \"gold_program\": gold_program,\n",
    "                            \"generated_programs\": generated_programs,})\n",
    "    return train_data, dev_data, test_data"
   ]
  },
  {
   "cell_type": "code",
   "execution_count": 10,
   "metadata": {},
   "outputs": [
    {
     "name": "stderr",
     "output_type": "stream",
     "text": [
      "100%|██████████| 399/399 [01:39<00:00,  4.00it/s]\n"
     ]
    }
   ],
   "source": [
    "# save a list of dictionaries to jsonl file\n",
    "prefix = \"/mnt/scratch-artemis/haausing/code_reranking/code/lever/data/mbpp/\"\n",
    "import json\n",
    "train_data, dev_data, test_data = create_data()\n",
    "with open(prefix + f\"{llm}_train.jsonl\", \"w\") as f:\n",
    "    for elem in train_data:\n",
    "        f.write(json.dumps(elem) + \"\\n\")\n",
    "with open(prefix + f\"{llm}_dev.jsonl\", \"w\") as f:\n",
    "    for elem in dev_data:\n",
    "        f.write(json.dumps(elem) + \"\\n\")\n",
    "with open(prefix + f\"{llm}_test.jsonl\", \"w\") as f:\n",
    "    for elem in test_data:\n",
    "        f.write(json.dumps(elem) + \"\\n\")"
   ]
  },
  {
   "cell_type": "code",
   "execution_count": 12,
   "metadata": {},
   "outputs": [],
   "source": [
    "#read the json files to list of dictionaries\n",
    "prefix = \"/mnt/scratch-artemis/haausing/code_reranking/code/lever/data/mbpp/\"\n",
    "#llm = \"code-llama-13b_temp_0.8\"\n",
    "llm = \"deepseek-coder-7b-instruct-v1.5_temp_0.8\"\n",
    "import json\n",
    "def read_jsonl(file_path: str):\n",
    "    with open(file_path, \"r\") as f:\n",
    "        return [json.loads(e) for e in f.readlines()]\n",
    "\n",
    "train_data = read_jsonl(prefix + f\"{llm}_train.jsonl\")\n",
    "dev_data = read_jsonl(prefix + f\"{llm}_dev.jsonl\")\n",
    "test_data = read_jsonl(prefix + f\"{llm}_test.jsonl\")"
   ]
  },
  {
   "cell_type": "code",
   "execution_count": 13,
   "metadata": {},
   "outputs": [
    {
     "data": {
      "text/plain": [
       "{'text': 'Write a function to check if a string represents an integer or not.',\n",
       " 'test_list': ['assert check_integer(\"python\")==False',\n",
       "  'assert check_integer(\"1\")==True',\n",
       "  'assert check_integer(\"12345\")==True'],\n",
       " 'task_id': 'Mbpp/113'}"
      ]
     },
     "execution_count": 13,
     "metadata": {},
     "output_type": "execute_result"
    }
   ],
   "source": [
    "test_data[57][\"metadata\"]"
   ]
  },
  {
   "cell_type": "code",
   "execution_count": 14,
   "metadata": {},
   "outputs": [],
   "source": [
    "base_linear_score = []\n",
    "plus_linear_score = []\n",
    "for sample in train_data:\n",
    "    for i, generated_program in enumerate(sample[\"generated_programs\"]):\n",
    "        base_linear_score.append(generated_program[\"base\"][\"linear_score\"])\n",
    "        plus_linear_score.append(generated_program[\"plus\"][\"linear_score\"])"
   ]
  },
  {
   "cell_type": "code",
   "execution_count": 15,
   "metadata": {},
   "outputs": [
    {
     "data": {
      "image/png": "[encoded data removed]",
      "text/plain": [
       "<Figure size 640x480 with 1 Axes>"
      ]
     },
     "metadata": {},
     "output_type": "display_data"
    }
   ],
   "source": [
    "import matplotlib.pyplot as plt\n",
    "\n",
    "plt.hist([base_linear_score, plus_linear_score], bins=20, label=['Base', 'Plus'])\n",
    "plt.legend(loc='upper right')\n",
    "plt.title('Comparison of Base and Plus Linear Scores')\n",
    "plt.xlabel('Linear Score')\n",
    "plt.ylabel('Frequency')\n",
    "plt.show()\n",
    "\n",
    "# change the plot above to plot relative frequency\n"
   ]
  },
  {
   "cell_type": "code",
   "execution_count": null,
   "metadata": {},
   "outputs": [],
   "source": []
  }
 ],
 "metadata": {
  "kernelspec": {
   "display_name": "evalplus",
   "language": "python",
   "name": "python3"
  },
  "language_info": {
   "codemirror_mode": {
    "name": "ipython",
    "version": 3
   },
   "file_extension": ".py",
   "mimetype": "text/x-python",
   "name": "python",
   "nbconvert_exporter": "python",
   "pygments_lexer": "ipython3",
   "version": "3.9.18"
  }
 },
 "nbformat": 4,
 "nbformat_minor": 2
}
