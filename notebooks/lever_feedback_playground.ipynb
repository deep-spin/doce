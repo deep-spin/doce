{
 "cells": [
  {
   "cell_type": "code",
   "execution_count": 2,
   "metadata": {},
   "outputs": [],
   "source": [
    "import itertools\n",
    "from multiprocessing import Array, Value\n",
    "from typing import Any, Dict, List, Tuple, Union\n",
    "\n",
    "import json\n",
    "\n",
    "import numpy as np\n",
    "\n",
    "from evalplus.eval._special_oracle import (\n",
    "    MBPP_OUTPUT_NOT_NONE_TASKS,\n",
    "    MBPP_OUTPUT_SET_EQ_TASKS,\n",
    "    _poly,\n",
    ")\n",
    "from evalplus.eval.utils import (\n",
    "    create_tempdir,\n",
    "    reliability_guard,\n",
    "    swallow_io,\n",
    "    time_limit,\n",
    ")\n",
    "\n",
    "import argparse\n",
    "import json\n",
    "import multiprocessing\n",
    "import os\n",
    "import pickle\n",
    "import threading\n",
    "import time\n",
    "from collections import Counter, defaultdict\n",
    "from concurrent.futures import ProcessPoolExecutor, as_completed\n",
    "from datetime import datetime\n",
    "from typing import Any, Dict, List, Tuple\n",
    "from warnings import warn\n",
    "\n",
    "import numpy as np\n",
    "from termcolor import cprint\n",
    "from tqdm import tqdm\n",
    "\n",
    "from evalplus.data import (\n",
    "    get_human_eval_plus,\n",
    "    get_human_eval_plus_hash,\n",
    "    get_mbpp_plus,\n",
    "    get_mbpp_plus_hash,\n",
    "    load_solutions,\n",
    ")\n",
    "from evalplus.data.mbpp import mbpp_serialize_inputs\n",
    "from evalplus.data.utils import CACHE_DIR\n",
    "from evalplus.eval import (\n",
    "    FAIL,\n",
    "    PASS,\n",
    "    compatible_eval_result,\n",
    "    estimate_pass_at_k,\n",
    ")\n",
    "\n",
    "from evalplus.gen.util import trusted_exec\n",
    "from evalplus.eval.utils import TimeoutException\n",
    "\n",
    "PASS = \"pass\"\n",
    "FAIL = \"fail\"\n",
    "TIMEOUT = \"timeout\"\n",
    "\n",
    "_SUCCESS = 0\n",
    "_FAILED = 1\n",
    "_TIMEOUT = 2\n",
    "_UNKNOWN = 3\n",
    "\n",
    "class MyCustomException(BaseException):\n",
    "    def __init__(self, message):\n",
    "        self.message = message\n",
    "\n",
    "\n",
    "def unsafe_execute_with_outputs(\n",
    "    dataset: str,\n",
    "    entry_point: str,\n",
    "    code: str,\n",
    "    task_id: str,\n",
    "    solution_id: str,\n",
    "    inputs,\n",
    "    expected: List,\n",
    "    time_limits,\n",
    "    stat: str,\n",
    "    details: List[int],\n",
    "    outputs: Dict[str, Any],\n",
    "):\n",
    "    with create_tempdir():\n",
    "        # These system calls are needed when cleaning up tempdir.\n",
    "        import os\n",
    "        import shutil\n",
    "\n",
    "        rmtree = shutil.rmtree\n",
    "        rmdir = os.rmdir\n",
    "        chdir = os.chdir\n",
    "        # Disable functionalities that can make destructive changes to the test.\n",
    "        # allow only 4GB memory usage\n",
    "        maximum_memory_bytes = 4 * 1024 * 1024 * 1024\n",
    "        reliability_guard(maximum_memory_bytes=maximum_memory_bytes)\n",
    "        exec_globals = {}\n",
    "        try:\n",
    "            with swallow_io():\n",
    "                exec(code, exec_globals)\n",
    "                fn = exec_globals[entry_point]\n",
    "            for i, inp in enumerate(inputs):\n",
    "                if i < len(details):\n",
    "                    if details[i] == 1:\n",
    "                        outputs[i] = expected[i]\n",
    "                        continue\n",
    "                elif i >= len(details):\n",
    "                    continue\n",
    "                try:\n",
    "                    with time_limit(time_limits[i]):\n",
    "                        with swallow_io():\n",
    "                            out = fn(*inp)\n",
    "                        \n",
    "                    if dataset == \"mbpp\":\n",
    "                        if entry_point in MBPP_OUTPUT_SET_EQ_TASKS:\n",
    "                            out = set(out)\n",
    "                        elif entry_point in MBPP_OUTPUT_NOT_NONE_TASKS:\n",
    "                            if not isinstance(out, bool):\n",
    "                                out = out is not None\n",
    "                    outputs[i] = out\n",
    "                except TimeoutException as e:\n",
    "                    outputs[i] = f\"failed: Execution timed out.\"\n",
    "                except BaseException as e:\n",
    "                    outputs[i] = f\"failed: {e}\"\n",
    "                    continue\n",
    "        except BaseException as e:\n",
    "            for i in range(len(inputs)):\n",
    "                if i not in outputs:\n",
    "                    outputs[i] = f\"failed: {e}\"\n",
    "                    if outputs[i].strip() == \"failed:\":\n",
    "                        outputs[i] = f\"failed: An error occurred.\"\n",
    "        shutil.rmtree = rmtree\n",
    "        os.rmdir = rmdir\n",
    "        os.chdir = chdir\n",
    "\n",
    "def get_groundtruth(problems, hashcode, tasks_only_output_not_none):\n",
    "    cache_file = os.path.join(CACHE_DIR, f\"{hashcode}.pkl\")\n",
    "    if os.path.exists(cache_file):\n",
    "        #print(f\"Load from ground-truth from {cache_file}\")\n",
    "        with open(cache_file, \"rb\") as f:\n",
    "            return pickle.load(f)\n",
    "\n",
    "    os.makedirs(CACHE_DIR, exist_ok=True)\n",
    "    #print(\"Computing expected output...\")\n",
    "    tbegin = time.time()\n",
    "    expected_output = {}\n",
    "    for task_id, problem in problems.items():\n",
    "        oracle = {}\n",
    "        oracle[\"base\"], oracle[\"base_time\"] = trusted_exec(\n",
    "            problem[\"prompt\"] + problem[\"canonical_solution\"],\n",
    "            problem[\"base_input\"],\n",
    "            problem[\"entry_point\"],\n",
    "            record_time=True,\n",
    "            output_not_none=problem[\"entry_point\"] in tasks_only_output_not_none,\n",
    "        )\n",
    "\n",
    "        oracle[\"plus\"], oracle[\"plus_time\"] = trusted_exec(\n",
    "            problem[\"prompt\"] + problem[\"canonical_solution\"],\n",
    "            problem[\"plus_input\"],\n",
    "            problem[\"entry_point\"],\n",
    "            record_time=True,\n",
    "            output_not_none=problem[\"entry_point\"] in tasks_only_output_not_none,\n",
    "        )\n",
    "        expected_output[task_id] = oracle\n",
    "    #print(f\"Expected outputs computed in {time.time() - tbegin:.2f}s\")\n",
    "\n",
    "    with open(cache_file, \"wb\") as f:\n",
    "        pickle.dump(expected_output, f)\n",
    "\n",
    "    return expected_output\n",
    "\n",
    "def untrusted_check(\n",
    "    dataset: str,\n",
    "    entry_point: str,\n",
    "    code: str,\n",
    "    task_id: str,\n",
    "    solution_id: str,\n",
    "    inputs: List[Any],\n",
    "    expected: List[Any],\n",
    "    ref_time,\n",
    "    stat,\n",
    "    details,\n",
    "):\n",
    "    min_time_limit=1.0\n",
    "    gt_time_limit_factor=4.0\n",
    "    fast_check = False\n",
    "    time_limits = [max(min_time_limit, gt_time_limit_factor * t) for t in ref_time]\n",
    "    timeout = min(os.getenv(\"EVALPLUS_TIMEOUT_PER_TASK\", 60), sum(time_limits)) + 1\n",
    "    if not fast_check:\n",
    "        timeout += 1  # extra time for data collection\n",
    "    manager = multiprocessing.Manager()\n",
    "    outputs = manager.dict()\n",
    "\n",
    "    p = multiprocessing.Process(\n",
    "        target=unsafe_execute_with_outputs,\n",
    "        #target=unsafe_execute,\n",
    "        args=(\n",
    "            dataset,\n",
    "            entry_point,\n",
    "            code,\n",
    "            task_id,\n",
    "            solution_id,\n",
    "            inputs,\n",
    "            expected,\n",
    "            time_limits,\n",
    "            stat,\n",
    "            details,\n",
    "            outputs,\n",
    "        ),\n",
    "    )\n",
    "    p.start()\n",
    "    p.join(timeout=timeout + 1)\n",
    "    if p.is_alive():\n",
    "        p.terminate()\n",
    "        time.sleep(0.1)\n",
    "    if p.is_alive():\n",
    "        p.kill()\n",
    "        time.sleep(0.1)\n",
    "\n",
    "    return outputs.copy()\n"
   ]
  },
  {
   "cell_type": "code",
   "execution_count": 4,
   "metadata": {},
   "outputs": [],
   "source": [
    "problems = get_mbpp_plus()\n",
    "dataset_hash = get_mbpp_plus_hash()\n",
    "expected_output = get_groundtruth(\n",
    "    problems,\n",
    "    dataset_hash,\n",
    "    MBPP_OUTPUT_NOT_NONE_TASKS,\n",
    ")"
   ]
  },
  {
   "cell_type": "code",
   "execution_count": 8,
   "metadata": {},
   "outputs": [
    {
     "data": {
      "text/plain": [
       "{0: 3, 1: 47, 2: 322}"
      ]
     },
     "execution_count": 8,
     "metadata": {},
     "output_type": "execute_result"
    }
   ],
   "source": [
    "'''\n",
    "{\"text\": \"Write a function to find the number of ways to fill it with 2 x 1 dominoes for the given 3 x n board.\", \n",
    " \"code\": \"def count_ways(n): \\r\\n\\tA = [0] * (n + 1) \\r\\n\\tB = [0] * (n + 1) \\r\\n\\tA[0] = 1\\r\\n\\tA[1] = 0\\r\\n\\tB[0] = 0\\r\\n\\tB[1] = 1\\r\\n\\tfor i in range(2, n+1): \\r\\n\\t\\tA[i] = A[i - 2] + 2 * B[i - 1] \\r\\n\\t\\tB[i] = A[i - 1] + B[i - 2] \\r\\n\\treturn A[n] \", \n",
    " \"task_id\": 5, \n",
    " \"test_setup_code\": \"\", \n",
    " \"test_list\": [\"assert count_ways(2) == 3\", \"assert count_ways(8) == 153\", \"assert count_ways(12) == 2131\"], \n",
    " \"challenge_test_list\": []}\n",
    "'''\n",
    "code = \"\"\"def count_ways(n):\n",
    "    if n == 0:\n",
    "        return 1\n",
    "    if n == 1:\n",
    "        return 1\n",
    "    if n == 2:\n",
    "        return 3\n",
    "    return count_ways(n-1) + count_ways(n-2)\"\"\"\n",
    "inputs = [[2], [8], [12]]\n",
    "expected = [3, 153, 2131]\n",
    "untrusted_check(\n",
    "    dataset=\"mbpp\",\n",
    "    entry_point=\"count_ways\",\n",
    "    code=code,\n",
    "    task_id=\"Mbpp/5\",\n",
    "    solution_id=\"0\",\n",
    "    inputs=inputs,\n",
    "    expected=expected,\n",
    "    ref_time=[0.0, 0.0, 0.0],\n",
    "    stat=\"base\",\n",
    "    details=[0, 0, 0],)\n"
   ]
  },
  {
   "cell_type": "code",
   "execution_count": 21,
   "metadata": {},
   "outputs": [
    {
     "name": "stdout",
     "output_type": "stream",
     "text": [
      "[(13, 9), (15, 8), (2, 4), (2, 3), (5, 1), (1, 5)]\n"
     ]
    },
    {
     "data": {
      "text/plain": [
       "{0: False, 1: False, 2: False, 3: False, 4: False, 5: False}"
      ]
     },
     "execution_count": 21,
     "metadata": {},
     "output_type": "execute_result"
    }
   ],
   "source": [
    "code = \"\"\"def differ_At_One_Bit_Pos(lhs,rhs):\n",
    "    if (lhs - rhs) == 0 or (lhs - rhs) == 1:\n",
    "        return True\n",
    "    return False\"\"\"\n",
    "task_id = \"Mbpp/6\"\n",
    "entry_point = problems[task_id][\"entry_point\"]\n",
    "inputs = problems[task_id][\"base_input\"]\n",
    "expected = expected_output[task_id][\"base\"]\n",
    "expected_time = expected_output[task_id][\"base_time\"]\n",
    "print([tuple(inp) for inp in inputs])\n",
    "untrusted_check(\n",
    "    dataset=\"mbpp\",\n",
    "    entry_point=entry_point,\n",
    "    code=code,\n",
    "    task_id=task_id,\n",
    "    solution_id=\"0\",\n",
    "    inputs=inputs,\n",
    "    expected=expected,\n",
    "    ref_time=expected_time,\n",
    "    stat=\"base\",\n",
    "    details=[0]*len(inputs),)\n"
   ]
  },
  {
   "cell_type": "code",
   "execution_count": 29,
   "metadata": {},
   "outputs": [
    {
     "name": "stdout",
     "output_type": "stream",
     "text": [
      "[('Please move back to stream',), ('Jing Eco and Tech',), ('Jhingai wulu road Zone 3',)]\n"
     ]
    },
    {
     "data": {
      "text/plain": [
       "{0: \"failed: name 're' is not defined\",\n",
       " 1: \"failed: name 're' is not defined\",\n",
       " 2: \"failed: name 're' is not defined\"}"
      ]
     },
     "execution_count": 29,
     "metadata": {},
     "output_type": "execute_result"
    }
   ],
   "source": [
    "code = \"\"\"def find_char_long(text):\n",
    "  return (re.findall(r\"\\b\\w{4,}\\b\", text))\"\"\"\n",
    "task_id = \"Mbpp/7\"\n",
    "entry_point = problems[task_id][\"entry_point\"]\n",
    "inputs = problems[task_id][\"base_input\"]\n",
    "expected = expected_output[task_id][\"base\"]\n",
    "expected_time = expected_output[task_id][\"base_time\"]\n",
    "print([tuple(inp) for inp in inputs])\n",
    "untrusted_check(\n",
    "    dataset=\"mbpp\",\n",
    "    entry_point=entry_point,\n",
    "    code=code,\n",
    "    task_id=task_id,\n",
    "    solution_id=\"0\",\n",
    "    inputs=inputs,\n",
    "    expected=expected,\n",
    "    ref_time=expected_time,\n",
    "    stat=\"base\",\n",
    "    details=[0]*len(inputs),)\n"
   ]
  },
  {
   "cell_type": "code",
   "execution_count": 31,
   "metadata": {},
   "outputs": [
    {
     "name": "stdout",
     "output_type": "stream",
     "text": [
      "[([1, 2, 3, 4, 5, 6, 7, 8, 9, 10],), ([10, 20, 30],), ([12, 15],)]\n"
     ]
    },
    {
     "data": {
      "text/plain": [
       "{0: [1, 4, 9, 16, 25, 36, 49, 64, 81, 100], 1: [100, 400, 900], 2: [144, 225]}"
      ]
     },
     "execution_count": 31,
     "metadata": {},
     "output_type": "execute_result"
    }
   ],
   "source": [
    "code = \"\"\"def square_nums(nums):\n",
    "  square_nums = list(map(lambda x: x ** 2, nums))\n",
    "  return square_nums\"\"\"\n",
    "task_id = \"Mbpp/8\"\n",
    "entry_point = problems[task_id][\"entry_point\"]\n",
    "inputs = problems[task_id][\"base_input\"]\n",
    "expected = expected_output[task_id][\"base\"]\n",
    "expected_time = expected_output[task_id][\"base_time\"]\n",
    "print([tuple(inp) for inp in inputs])\n",
    "untrusted_check(\n",
    "    dataset=\"mbpp\",\n",
    "    entry_point=entry_point,\n",
    "    code=code,\n",
    "    task_id=task_id,\n",
    "    solution_id=\"0\",\n",
    "    inputs=inputs,\n",
    "    expected=expected,\n",
    "    ref_time=expected_time,\n",
    "    stat=\"base\",\n",
    "    details=[0]*len(inputs),)"
   ]
  },
  {
   "cell_type": "code",
   "execution_count": 34,
   "metadata": {},
   "outputs": [
    {
     "name": "stdout",
     "output_type": "stream",
     "text": [
      "[('aaaa',), ('ab',), ('abc',)]\n",
      "[1, 2, 3]\n"
     ]
    },
    {
     "data": {
      "text/plain": [
       "{0: 0, 1: 0, 2: 0}"
      ]
     },
     "execution_count": 34,
     "metadata": {},
     "output_type": "execute_result"
    }
   ],
   "source": [
    "code = \"\"\"def find_Rotations(s):\n",
    "    if len(s) == 1:\n",
    "        return 1\n",
    "    elif len(s) == 0:\n",
    "        return 0\n",
    "    else:\n",
    "        l = len(s)\n",
    "        min = len(s)\n",
    "        for i, c in enumerate(s):\n",
    "            if c == s[0]:\n",
    "                temp = i\n",
    "                if temp < min:\n",
    "                    min = temp\n",
    "        return min\"\"\"\n",
    "task_id = \"Mbpp/9\"\n",
    "entry_point = problems[task_id][\"entry_point\"]\n",
    "inputs = problems[task_id][\"base_input\"]\n",
    "expected = expected_output[task_id][\"base\"]\n",
    "expected_time = expected_output[task_id][\"base_time\"]\n",
    "print([tuple(inp) for inp in inputs])\n",
    "print(expected)\n",
    "untrusted_check(\n",
    "    dataset=\"mbpp\",\n",
    "    entry_point=entry_point,\n",
    "    code=code,\n",
    "    task_id=task_id,\n",
    "    solution_id=\"0\",\n",
    "    inputs=inputs,\n",
    "    expected=expected,\n",
    "    ref_time=expected_time,\n",
    "    stat=\"base\",\n",
    "    details=[0]*len(inputs),)"
   ]
  },
  {
   "cell_type": "code",
   "execution_count": 36,
   "metadata": {},
   "outputs": [
    {
     "name": "stdout",
     "output_type": "stream",
     "text": [
      "[([10, 20, 50, 70, 90, 20, 50, 40, 60, 80, 100], 2), ([10, 20, 50, 70, 90, 20, 50, 40, 60, 80, 100], 5), ([10, 20, 50, 70, 90, 20, 50, 40, 60, 80, 100], 3)]\n",
      "[[10, 20], [10, 20, 20, 40, 50], [10, 20, 20]]\n"
     ]
    },
    {
     "data": {
      "text/plain": [
       "{0: [10, 20], 1: [10, 20, 20, 40, 50], 2: [10, 20, 20]}"
      ]
     },
     "execution_count": 36,
     "metadata": {},
     "output_type": "execute_result"
    }
   ],
   "source": [
    "{\"text\": \"Write a function to get the n smallest items from a dataset.\", \n",
    " \"code\": \"import heapq\\r\\ndef small_nnum(list1,n):\\r\\n  smallest=heapq.nsmallest(n,list1)\\r\\n  return smallest\", \n",
    " \"task_id\": 10, \n",
    " \"test_setup_code\": \"\", \n",
    " \"test_list\": [\"assert small_nnum([10, 20, 50, 70, 90, 20, 50, 40, 60, 80, 100],2)==[10,20]\", \n",
    "               \"assert small_nnum([10, 20, 50, 70, 90, 20, 50, 40, 60, 80, 100],5)==[10,20,20,40,50]\", \n",
    "               \"assert small_nnum([10, 20, 50, 70, 90, 20, 50, 40, 60, 80, 100],3)==[10,20,20]\"], \n",
    " \"challenge_test_list\": []}\n",
    "\n",
    "code = \"\"\"def small_nnum(lst,n):\n",
    "  lst = sorted(lst)\n",
    "  lst = lst[:n]\n",
    "  return lst\"\"\"\n",
    "inputs = [[[10, 20, 50, 70, 90, 20, 50, 40, 60, 80, 100],2], \n",
    "          [[10, 20, 50, 70, 90, 20, 50, 40, 60, 80, 100],5], \n",
    "          [[10, 20, 50, 70, 90, 20, 50, 40, 60, 80, 100],3]]\n",
    "expected = [[10,20], [10,20,20,40,50], [10,20,20]]\n",
    "print([tuple(inp) for inp in inputs])\n",
    "print(expected)\n",
    "untrusted_check(\n",
    "    dataset=\"mbpp\",\n",
    "    entry_point=\"small_nnum\",\n",
    "    code=code,\n",
    "    task_id=\"Mbpp/10\",\n",
    "    solution_id=\"0\",\n",
    "    inputs=inputs,\n",
    "    expected=expected,\n",
    "    ref_time=[0.0, 0.0, 0.0],\n",
    "    stat=\"base\",\n",
    "    details=[0, 0, 0],)"
   ]
  },
  {
   "cell_type": "code",
   "execution_count": null,
   "metadata": {},
   "outputs": [],
   "source": []
  }
 ],
 "metadata": {
  "kernelspec": {
   "display_name": "evalplus",
   "language": "python",
   "name": "python3"
  },
  "language_info": {
   "codemirror_mode": {
    "name": "ipython",
    "version": 3
   },
   "file_extension": ".py",
   "mimetype": "text/x-python",
   "name": "python",
   "nbconvert_exporter": "python",
   "pygments_lexer": "ipython3",
   "version": "3.9.18"
  }
 },
 "nbformat": 4,
 "nbformat_minor": 2
}
